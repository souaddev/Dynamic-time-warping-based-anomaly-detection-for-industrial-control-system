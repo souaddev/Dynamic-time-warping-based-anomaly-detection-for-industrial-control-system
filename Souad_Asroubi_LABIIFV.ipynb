{
  "cells": [
    {
      "cell_type": "markdown",
      "metadata": {
        "id": "ijwWli54CEY3"
      },
      "source": [
        "# **LAB II: Dynamic Time Warping Based Anomaly Detection For Industrial Control System**\n",
        "**Souad Asroubi**"
      ]
    },
    {
      "cell_type": "markdown",
      "metadata": {
        "id": "Q--DmAipnymN"
      },
      "source": [
        "#**1. Import libraries**"
      ]
    },
    {
      "cell_type": "code",
      "source": [
        "pip install fastdtw"
      ],
      "metadata": {
        "colab": {
          "base_uri": "https://localhost:8080/"
        },
        "id": "PQFaMZhFoYMq",
        "outputId": "83ac325f-cfc2-4844-97df-6f0b417d2acd"
      },
      "execution_count": 1,
      "outputs": [
        {
          "output_type": "stream",
          "name": "stdout",
          "text": [
            "Collecting fastdtw\n",
            "  Downloading fastdtw-0.3.4.tar.gz (133 kB)\n",
            "\u001b[2K     \u001b[90m━━━━━━━━━━━━━━━━━━━━━━━━━━━━━━━━━━━━━━━━\u001b[0m \u001b[32m133.4/133.4 kB\u001b[0m \u001b[31m2.5 MB/s\u001b[0m eta \u001b[36m0:00:00\u001b[0m\n",
            "\u001b[?25h  Preparing metadata (setup.py) ... \u001b[?25l\u001b[?25hdone\n",
            "Requirement already satisfied: numpy in /usr/local/lib/python3.10/dist-packages (from fastdtw) (1.23.5)\n",
            "Building wheels for collected packages: fastdtw\n",
            "  Building wheel for fastdtw (setup.py) ... \u001b[?25l\u001b[?25hdone\n",
            "  Created wheel for fastdtw: filename=fastdtw-0.3.4-cp310-cp310-linux_x86_64.whl size=512581 sha256=fbefa33b591fcf05fcdb337ef73d7c474fa697a26e4b68784356f9fcd9966e67\n",
            "  Stored in directory: /root/.cache/pip/wheels/73/c8/f7/c25448dab74c3acf4848bc25d513c736bb93910277e1528ef4\n",
            "Successfully built fastdtw\n",
            "Installing collected packages: fastdtw\n",
            "Successfully installed fastdtw-0.3.4\n"
          ]
        }
      ]
    },
    {
      "cell_type": "code",
      "execution_count": 4,
      "metadata": {
        "id": "vgn60gmQBk_8"
      },
      "outputs": [],
      "source": [
        "import pandas as pd\n",
        "import numpy as np\n",
        "import tensorflow as tf\n",
        "import warnings\n",
        "warnings.filterwarnings(\"ignore\")\n",
        "from sklearn.preprocessing import MinMaxScaler\n",
        "import matplotlib.pyplot as plt\n",
        "from sklearn.model_selection import train_test_split\n",
        "from tensorflow.keras.models import Sequential\n",
        "from tensorflow.keras.layers import LSTM, Dense,Input,Dropout, BatchNormalization\n",
        "from tensorflow.keras.callbacks import EarlyStopping\n",
        "from sklearn.ensemble import IsolationForest\n",
        "from sklearn.metrics import confusion_matrix, precision_score, recall_score, f1_score, roc_curve, roc_auc_score,accuracy_score,classification_report\n",
        "from sklearn.preprocessing import OneHotEncoder\n",
        "from scipy.spatial.distance import euclidean\n",
        "from sklearn.model_selection import GridSearchCV\n",
        "from sklearn.metrics import make_scorer,r2_score\n",
        "from sklearn.metrics import mean_squared_error\n",
        "from tensorflow.keras.models import Model\n"
      ]
    },
    {
      "cell_type": "code",
      "execution_count": 5,
      "metadata": {
        "colab": {
          "base_uri": "https://localhost:8080/"
        },
        "id": "uTeyG0M6__zi",
        "outputId": "a31ef89f-4e32-446d-835f-ae70a9fa2822"
      },
      "outputs": [
        {
          "output_type": "stream",
          "name": "stdout",
          "text": [
            "Mounted at /content/drive/\n"
          ]
        }
      ],
      "source": [
        "from google.colab import drive\n",
        "drive.mount('/content/drive/')"
      ]
    },
    {
      "cell_type": "markdown",
      "metadata": {
        "id": "0qJNJiN9o0nM"
      },
      "source": [
        "# **2. Dataset Loading**"
      ]
    },
    {
      "cell_type": "code",
      "execution_count": 2,
      "metadata": {
        "id": "OVK4QEkx62Ta"
      },
      "outputs": [],
      "source": [
        "dataset_path_normal = '/content/drive/My Drive/swat/SWaT_Dataset_Normal_v0.csv'\n",
        "dataset_path_attack = '/content/drive/My Drive/swat/SWaT_Dataset_Attack_v0.csv'"
      ]
    },
    {
      "cell_type": "code",
      "execution_count": 6,
      "metadata": {
        "id": "204HTa4ysmLu"
      },
      "outputs": [],
      "source": [
        "SWaT_normal = pd.read_csv(dataset_path_normal)\n",
        "SWaT_attack = pd.read_csv(dataset_path_attack)\n",
        "\n",
        "data = pd.concat([SWaT_normal, SWaT_attack])"
      ]
    },
    {
      "cell_type": "code",
      "execution_count": 8,
      "metadata": {
        "colab": {
          "base_uri": "https://localhost:8080/",
          "height": 339
        },
        "id": "WPi1LFFAkLaM",
        "outputId": "fba11e63-1aa0-46e1-db61-90b12737405e"
      },
      "outputs": [
        {
          "output_type": "stream",
          "name": "stdout",
          "text": [
            "(946719, 53)\n"
          ]
        },
        {
          "output_type": "execute_result",
          "data": {
            "text/plain": [
              "                Timestamp    FIT101    LIT101  MV101  P101  P102    AIT201  \\\n",
              "0   22/12/2015 4:00:00 PM  2.470294  261.5804      2     2     1  244.3284   \n",
              "1   22/12/2015 4:00:01 PM  2.457163  261.1879      2     2     1  244.3284   \n",
              "2   22/12/2015 4:00:02 PM  2.439548  260.9131      2     2     1  244.3284   \n",
              "3   22/12/2015 4:00:03 PM  2.428338  260.2850      2     2     1  244.3284   \n",
              "4   22/12/2015 4:00:04 PM  2.424815  259.8925      2     2     1  244.4245   \n",
              "\n",
              "    AIT202   AIT203    FIT201  ...  P501  P502    PIT501  PIT502    PIT503  \\\n",
              "0  8.19008  306.101  2.471278  ...     1     1  10.02948     0.0  4.277749   \n",
              "1  8.19008  306.101  2.468587  ...     1     1  10.02948     0.0  4.277749   \n",
              "2  8.19008  306.101  2.467305  ...     1     1  10.02948     0.0  4.277749   \n",
              "3  8.19008  306.101  2.466536  ...     1     1  10.02948     0.0  4.277749   \n",
              "4  8.19008  306.101  2.466536  ...     1     1  10.02948     0.0  4.277749   \n",
              "\n",
              "     FIT601  P601  P602  P603  Normal/Attack  \n",
              "0  0.000256     1     1     1         Normal  \n",
              "1  0.000256     1     1     1         Normal  \n",
              "2  0.000256     1     1     1         Normal  \n",
              "3  0.000256     1     1     1         Normal  \n",
              "4  0.000256     1     1     1         Normal  \n",
              "\n",
              "[5 rows x 53 columns]"
            ],
            "text/html": [
              "\n",
              "  <div id=\"df-ae6a8b1c-f1ba-44ab-8d6b-4efc91483a67\" class=\"colab-df-container\">\n",
              "    <div>\n",
              "<style scoped>\n",
              "    .dataframe tbody tr th:only-of-type {\n",
              "        vertical-align: middle;\n",
              "    }\n",
              "\n",
              "    .dataframe tbody tr th {\n",
              "        vertical-align: top;\n",
              "    }\n",
              "\n",
              "    .dataframe thead th {\n",
              "        text-align: right;\n",
              "    }\n",
              "</style>\n",
              "<table border=\"1\" class=\"dataframe\">\n",
              "  <thead>\n",
              "    <tr style=\"text-align: right;\">\n",
              "      <th></th>\n",
              "      <th>Timestamp</th>\n",
              "      <th>FIT101</th>\n",
              "      <th>LIT101</th>\n",
              "      <th>MV101</th>\n",
              "      <th>P101</th>\n",
              "      <th>P102</th>\n",
              "      <th>AIT201</th>\n",
              "      <th>AIT202</th>\n",
              "      <th>AIT203</th>\n",
              "      <th>FIT201</th>\n",
              "      <th>...</th>\n",
              "      <th>P501</th>\n",
              "      <th>P502</th>\n",
              "      <th>PIT501</th>\n",
              "      <th>PIT502</th>\n",
              "      <th>PIT503</th>\n",
              "      <th>FIT601</th>\n",
              "      <th>P601</th>\n",
              "      <th>P602</th>\n",
              "      <th>P603</th>\n",
              "      <th>Normal/Attack</th>\n",
              "    </tr>\n",
              "  </thead>\n",
              "  <tbody>\n",
              "    <tr>\n",
              "      <th>0</th>\n",
              "      <td>22/12/2015 4:00:00 PM</td>\n",
              "      <td>2.470294</td>\n",
              "      <td>261.5804</td>\n",
              "      <td>2</td>\n",
              "      <td>2</td>\n",
              "      <td>1</td>\n",
              "      <td>244.3284</td>\n",
              "      <td>8.19008</td>\n",
              "      <td>306.101</td>\n",
              "      <td>2.471278</td>\n",
              "      <td>...</td>\n",
              "      <td>1</td>\n",
              "      <td>1</td>\n",
              "      <td>10.02948</td>\n",
              "      <td>0.0</td>\n",
              "      <td>4.277749</td>\n",
              "      <td>0.000256</td>\n",
              "      <td>1</td>\n",
              "      <td>1</td>\n",
              "      <td>1</td>\n",
              "      <td>Normal</td>\n",
              "    </tr>\n",
              "    <tr>\n",
              "      <th>1</th>\n",
              "      <td>22/12/2015 4:00:01 PM</td>\n",
              "      <td>2.457163</td>\n",
              "      <td>261.1879</td>\n",
              "      <td>2</td>\n",
              "      <td>2</td>\n",
              "      <td>1</td>\n",
              "      <td>244.3284</td>\n",
              "      <td>8.19008</td>\n",
              "      <td>306.101</td>\n",
              "      <td>2.468587</td>\n",
              "      <td>...</td>\n",
              "      <td>1</td>\n",
              "      <td>1</td>\n",
              "      <td>10.02948</td>\n",
              "      <td>0.0</td>\n",
              "      <td>4.277749</td>\n",
              "      <td>0.000256</td>\n",
              "      <td>1</td>\n",
              "      <td>1</td>\n",
              "      <td>1</td>\n",
              "      <td>Normal</td>\n",
              "    </tr>\n",
              "    <tr>\n",
              "      <th>2</th>\n",
              "      <td>22/12/2015 4:00:02 PM</td>\n",
              "      <td>2.439548</td>\n",
              "      <td>260.9131</td>\n",
              "      <td>2</td>\n",
              "      <td>2</td>\n",
              "      <td>1</td>\n",
              "      <td>244.3284</td>\n",
              "      <td>8.19008</td>\n",
              "      <td>306.101</td>\n",
              "      <td>2.467305</td>\n",
              "      <td>...</td>\n",
              "      <td>1</td>\n",
              "      <td>1</td>\n",
              "      <td>10.02948</td>\n",
              "      <td>0.0</td>\n",
              "      <td>4.277749</td>\n",
              "      <td>0.000256</td>\n",
              "      <td>1</td>\n",
              "      <td>1</td>\n",
              "      <td>1</td>\n",
              "      <td>Normal</td>\n",
              "    </tr>\n",
              "    <tr>\n",
              "      <th>3</th>\n",
              "      <td>22/12/2015 4:00:03 PM</td>\n",
              "      <td>2.428338</td>\n",
              "      <td>260.2850</td>\n",
              "      <td>2</td>\n",
              "      <td>2</td>\n",
              "      <td>1</td>\n",
              "      <td>244.3284</td>\n",
              "      <td>8.19008</td>\n",
              "      <td>306.101</td>\n",
              "      <td>2.466536</td>\n",
              "      <td>...</td>\n",
              "      <td>1</td>\n",
              "      <td>1</td>\n",
              "      <td>10.02948</td>\n",
              "      <td>0.0</td>\n",
              "      <td>4.277749</td>\n",
              "      <td>0.000256</td>\n",
              "      <td>1</td>\n",
              "      <td>1</td>\n",
              "      <td>1</td>\n",
              "      <td>Normal</td>\n",
              "    </tr>\n",
              "    <tr>\n",
              "      <th>4</th>\n",
              "      <td>22/12/2015 4:00:04 PM</td>\n",
              "      <td>2.424815</td>\n",
              "      <td>259.8925</td>\n",
              "      <td>2</td>\n",
              "      <td>2</td>\n",
              "      <td>1</td>\n",
              "      <td>244.4245</td>\n",
              "      <td>8.19008</td>\n",
              "      <td>306.101</td>\n",
              "      <td>2.466536</td>\n",
              "      <td>...</td>\n",
              "      <td>1</td>\n",
              "      <td>1</td>\n",
              "      <td>10.02948</td>\n",
              "      <td>0.0</td>\n",
              "      <td>4.277749</td>\n",
              "      <td>0.000256</td>\n",
              "      <td>1</td>\n",
              "      <td>1</td>\n",
              "      <td>1</td>\n",
              "      <td>Normal</td>\n",
              "    </tr>\n",
              "  </tbody>\n",
              "</table>\n",
              "<p>5 rows × 53 columns</p>\n",
              "</div>\n",
              "    <div class=\"colab-df-buttons\">\n",
              "\n",
              "  <div class=\"colab-df-container\">\n",
              "    <button class=\"colab-df-convert\" onclick=\"convertToInteractive('df-ae6a8b1c-f1ba-44ab-8d6b-4efc91483a67')\"\n",
              "            title=\"Convert this dataframe to an interactive table.\"\n",
              "            style=\"display:none;\">\n",
              "\n",
              "  <svg xmlns=\"http://www.w3.org/2000/svg\" height=\"24px\" viewBox=\"0 -960 960 960\">\n",
              "    <path d=\"M120-120v-720h720v720H120Zm60-500h600v-160H180v160Zm220 220h160v-160H400v160Zm0 220h160v-160H400v160ZM180-400h160v-160H180v160Zm440 0h160v-160H620v160ZM180-180h160v-160H180v160Zm440 0h160v-160H620v160Z\"/>\n",
              "  </svg>\n",
              "    </button>\n",
              "\n",
              "  <style>\n",
              "    .colab-df-container {\n",
              "      display:flex;\n",
              "      gap: 12px;\n",
              "    }\n",
              "\n",
              "    .colab-df-convert {\n",
              "      background-color: #E8F0FE;\n",
              "      border: none;\n",
              "      border-radius: 50%;\n",
              "      cursor: pointer;\n",
              "      display: none;\n",
              "      fill: #1967D2;\n",
              "      height: 32px;\n",
              "      padding: 0 0 0 0;\n",
              "      width: 32px;\n",
              "    }\n",
              "\n",
              "    .colab-df-convert:hover {\n",
              "      background-color: #E2EBFA;\n",
              "      box-shadow: 0px 1px 2px rgba(60, 64, 67, 0.3), 0px 1px 3px 1px rgba(60, 64, 67, 0.15);\n",
              "      fill: #174EA6;\n",
              "    }\n",
              "\n",
              "    .colab-df-buttons div {\n",
              "      margin-bottom: 4px;\n",
              "    }\n",
              "\n",
              "    [theme=dark] .colab-df-convert {\n",
              "      background-color: #3B4455;\n",
              "      fill: #D2E3FC;\n",
              "    }\n",
              "\n",
              "    [theme=dark] .colab-df-convert:hover {\n",
              "      background-color: #434B5C;\n",
              "      box-shadow: 0px 1px 3px 1px rgba(0, 0, 0, 0.15);\n",
              "      filter: drop-shadow(0px 1px 2px rgba(0, 0, 0, 0.3));\n",
              "      fill: #FFFFFF;\n",
              "    }\n",
              "  </style>\n",
              "\n",
              "    <script>\n",
              "      const buttonEl =\n",
              "        document.querySelector('#df-ae6a8b1c-f1ba-44ab-8d6b-4efc91483a67 button.colab-df-convert');\n",
              "      buttonEl.style.display =\n",
              "        google.colab.kernel.accessAllowed ? 'block' : 'none';\n",
              "\n",
              "      async function convertToInteractive(key) {\n",
              "        const element = document.querySelector('#df-ae6a8b1c-f1ba-44ab-8d6b-4efc91483a67');\n",
              "        const dataTable =\n",
              "          await google.colab.kernel.invokeFunction('convertToInteractive',\n",
              "                                                    [key], {});\n",
              "        if (!dataTable) return;\n",
              "\n",
              "        const docLinkHtml = 'Like what you see? Visit the ' +\n",
              "          '<a target=\"_blank\" href=https://colab.research.google.com/notebooks/data_table.ipynb>data table notebook</a>'\n",
              "          + ' to learn more about interactive tables.';\n",
              "        element.innerHTML = '';\n",
              "        dataTable['output_type'] = 'display_data';\n",
              "        await google.colab.output.renderOutput(dataTable, element);\n",
              "        const docLink = document.createElement('div');\n",
              "        docLink.innerHTML = docLinkHtml;\n",
              "        element.appendChild(docLink);\n",
              "      }\n",
              "    </script>\n",
              "  </div>\n",
              "\n",
              "\n",
              "<div id=\"df-f559d55d-0235-453a-be7f-edb6e6fb1baa\">\n",
              "  <button class=\"colab-df-quickchart\" onclick=\"quickchart('df-f559d55d-0235-453a-be7f-edb6e6fb1baa')\"\n",
              "            title=\"Suggest charts\"\n",
              "            style=\"display:none;\">\n",
              "\n",
              "<svg xmlns=\"http://www.w3.org/2000/svg\" height=\"24px\"viewBox=\"0 0 24 24\"\n",
              "     width=\"24px\">\n",
              "    <g>\n",
              "        <path d=\"M19 3H5c-1.1 0-2 .9-2 2v14c0 1.1.9 2 2 2h14c1.1 0 2-.9 2-2V5c0-1.1-.9-2-2-2zM9 17H7v-7h2v7zm4 0h-2V7h2v10zm4 0h-2v-4h2v4z\"/>\n",
              "    </g>\n",
              "</svg>\n",
              "  </button>\n",
              "\n",
              "<style>\n",
              "  .colab-df-quickchart {\n",
              "      --bg-color: #E8F0FE;\n",
              "      --fill-color: #1967D2;\n",
              "      --hover-bg-color: #E2EBFA;\n",
              "      --hover-fill-color: #174EA6;\n",
              "      --disabled-fill-color: #AAA;\n",
              "      --disabled-bg-color: #DDD;\n",
              "  }\n",
              "\n",
              "  [theme=dark] .colab-df-quickchart {\n",
              "      --bg-color: #3B4455;\n",
              "      --fill-color: #D2E3FC;\n",
              "      --hover-bg-color: #434B5C;\n",
              "      --hover-fill-color: #FFFFFF;\n",
              "      --disabled-bg-color: #3B4455;\n",
              "      --disabled-fill-color: #666;\n",
              "  }\n",
              "\n",
              "  .colab-df-quickchart {\n",
              "    background-color: var(--bg-color);\n",
              "    border: none;\n",
              "    border-radius: 50%;\n",
              "    cursor: pointer;\n",
              "    display: none;\n",
              "    fill: var(--fill-color);\n",
              "    height: 32px;\n",
              "    padding: 0;\n",
              "    width: 32px;\n",
              "  }\n",
              "\n",
              "  .colab-df-quickchart:hover {\n",
              "    background-color: var(--hover-bg-color);\n",
              "    box-shadow: 0 1px 2px rgba(60, 64, 67, 0.3), 0 1px 3px 1px rgba(60, 64, 67, 0.15);\n",
              "    fill: var(--button-hover-fill-color);\n",
              "  }\n",
              "\n",
              "  .colab-df-quickchart-complete:disabled,\n",
              "  .colab-df-quickchart-complete:disabled:hover {\n",
              "    background-color: var(--disabled-bg-color);\n",
              "    fill: var(--disabled-fill-color);\n",
              "    box-shadow: none;\n",
              "  }\n",
              "\n",
              "  .colab-df-spinner {\n",
              "    border: 2px solid var(--fill-color);\n",
              "    border-color: transparent;\n",
              "    border-bottom-color: var(--fill-color);\n",
              "    animation:\n",
              "      spin 1s steps(1) infinite;\n",
              "  }\n",
              "\n",
              "  @keyframes spin {\n",
              "    0% {\n",
              "      border-color: transparent;\n",
              "      border-bottom-color: var(--fill-color);\n",
              "      border-left-color: var(--fill-color);\n",
              "    }\n",
              "    20% {\n",
              "      border-color: transparent;\n",
              "      border-left-color: var(--fill-color);\n",
              "      border-top-color: var(--fill-color);\n",
              "    }\n",
              "    30% {\n",
              "      border-color: transparent;\n",
              "      border-left-color: var(--fill-color);\n",
              "      border-top-color: var(--fill-color);\n",
              "      border-right-color: var(--fill-color);\n",
              "    }\n",
              "    40% {\n",
              "      border-color: transparent;\n",
              "      border-right-color: var(--fill-color);\n",
              "      border-top-color: var(--fill-color);\n",
              "    }\n",
              "    60% {\n",
              "      border-color: transparent;\n",
              "      border-right-color: var(--fill-color);\n",
              "    }\n",
              "    80% {\n",
              "      border-color: transparent;\n",
              "      border-right-color: var(--fill-color);\n",
              "      border-bottom-color: var(--fill-color);\n",
              "    }\n",
              "    90% {\n",
              "      border-color: transparent;\n",
              "      border-bottom-color: var(--fill-color);\n",
              "    }\n",
              "  }\n",
              "</style>\n",
              "\n",
              "  <script>\n",
              "    async function quickchart(key) {\n",
              "      const quickchartButtonEl =\n",
              "        document.querySelector('#' + key + ' button');\n",
              "      quickchartButtonEl.disabled = true;  // To prevent multiple clicks.\n",
              "      quickchartButtonEl.classList.add('colab-df-spinner');\n",
              "      try {\n",
              "        const charts = await google.colab.kernel.invokeFunction(\n",
              "            'suggestCharts', [key], {});\n",
              "      } catch (error) {\n",
              "        console.error('Error during call to suggestCharts:', error);\n",
              "      }\n",
              "      quickchartButtonEl.classList.remove('colab-df-spinner');\n",
              "      quickchartButtonEl.classList.add('colab-df-quickchart-complete');\n",
              "    }\n",
              "    (() => {\n",
              "      let quickchartButtonEl =\n",
              "        document.querySelector('#df-f559d55d-0235-453a-be7f-edb6e6fb1baa button');\n",
              "      quickchartButtonEl.style.display =\n",
              "        google.colab.kernel.accessAllowed ? 'block' : 'none';\n",
              "    })();\n",
              "  </script>\n",
              "</div>\n",
              "    </div>\n",
              "  </div>\n"
            ]
          },
          "metadata": {},
          "execution_count": 8
        }
      ],
      "source": [
        "print(data.shape)\n",
        "data.head()"
      ]
    },
    {
      "cell_type": "code",
      "execution_count": 9,
      "metadata": {
        "colab": {
          "base_uri": "https://localhost:8080/"
        },
        "id": "GA-3To1PlkZF",
        "outputId": "9410e9e8-212c-47d9-e831-b3f36f7c1d72"
      },
      "outputs": [
        {
          "output_type": "stream",
          "name": "stdout",
          "text": [
            "<class 'pandas.core.frame.DataFrame'>\n",
            "Int64Index: 946719 entries, 0 to 449918\n",
            "Data columns (total 53 columns):\n",
            " #   Column         Non-Null Count   Dtype  \n",
            "---  ------         --------------   -----  \n",
            " 0   Timestamp      946719 non-null  object \n",
            " 1   FIT101         946719 non-null  float64\n",
            " 2   LIT101         946719 non-null  float64\n",
            " 3   MV101          946719 non-null  int64  \n",
            " 4   P101           946719 non-null  int64  \n",
            " 5   P102           946719 non-null  int64  \n",
            " 6   AIT201         946719 non-null  float64\n",
            " 7   AIT202         946719 non-null  float64\n",
            " 8   AIT203         946719 non-null  float64\n",
            " 9   FIT201         946719 non-null  float64\n",
            " 10  MV201          946719 non-null  int64  \n",
            " 11  P201           946719 non-null  int64  \n",
            " 12  P202           946719 non-null  int64  \n",
            " 13  P203           946719 non-null  int64  \n",
            " 14  P204           946719 non-null  int64  \n",
            " 15  P205           946719 non-null  int64  \n",
            " 16  P206           946719 non-null  int64  \n",
            " 17  DPIT301        946719 non-null  float64\n",
            " 18  FIT301         946719 non-null  float64\n",
            " 19  LIT301         946719 non-null  float64\n",
            " 20  MV301          946719 non-null  int64  \n",
            " 21  MV302          946719 non-null  int64  \n",
            " 22  MV303          946719 non-null  int64  \n",
            " 23  MV304          946719 non-null  int64  \n",
            " 24  P301           946719 non-null  int64  \n",
            " 25  P302           946719 non-null  int64  \n",
            " 26  AIT401         946719 non-null  float64\n",
            " 27  AIT402         946719 non-null  float64\n",
            " 28  FIT401         946719 non-null  float64\n",
            " 29  LIT401         946719 non-null  float64\n",
            " 30  P401           946719 non-null  int64  \n",
            " 31  P402           946719 non-null  int64  \n",
            " 32  P403           946719 non-null  int64  \n",
            " 33  P404           946719 non-null  int64  \n",
            " 34  UV401          946719 non-null  int64  \n",
            " 35  AIT501         946719 non-null  float64\n",
            " 36  AIT502         946719 non-null  float64\n",
            " 37  AIT503         946719 non-null  float64\n",
            " 38  AIT504         946719 non-null  float64\n",
            " 39  FIT501         946719 non-null  float64\n",
            " 40  FIT502         946719 non-null  float64\n",
            " 41  FIT503         946719 non-null  float64\n",
            " 42  FIT504         946719 non-null  float64\n",
            " 43  P501           946719 non-null  int64  \n",
            " 44  P502           946719 non-null  int64  \n",
            " 45  PIT501         946719 non-null  float64\n",
            " 46  PIT502         946719 non-null  float64\n",
            " 47  PIT503         946719 non-null  float64\n",
            " 48  FIT601         946719 non-null  float64\n",
            " 49  P601           946719 non-null  int64  \n",
            " 50  P602           946719 non-null  int64  \n",
            " 51  P603           946719 non-null  int64  \n",
            " 52  Normal/Attack  946719 non-null  object \n",
            "dtypes: float64(25), int64(26), object(2)\n",
            "memory usage: 390.0+ MB\n"
          ]
        }
      ],
      "source": [
        "data.info()"
      ]
    },
    {
      "cell_type": "markdown",
      "metadata": {
        "id": "U144t0B-l0Y4"
      },
      "source": [
        "#**3. Visualization**"
      ]
    },
    {
      "cell_type": "code",
      "execution_count": 6,
      "metadata": {
        "id": "f8hXmgkYPAFA",
        "colab": {
          "base_uri": "https://localhost:8080/"
        },
        "outputId": "df84b135-32a5-4351-b729-81e87f394772"
      },
      "outputs": [
        {
          "output_type": "execute_result",
          "data": {
            "text/plain": [
              "array(['Normal', 'Attack', 'A ttack'], dtype=object)"
            ]
          },
          "metadata": {},
          "execution_count": 6
        }
      ],
      "source": [
        "data['Normal/Attack'].unique()"
      ]
    },
    {
      "cell_type": "code",
      "execution_count": 7,
      "metadata": {
        "id": "fL0TCErLAwWY"
      },
      "outputs": [],
      "source": [
        "# Remove extra spaces\n",
        "data['Normal/Attack'] = data['Normal/Attack'].str.replace(' ', '')"
      ]
    },
    {
      "cell_type": "code",
      "execution_count": 10,
      "metadata": {
        "id": "_xqhphU-_mT9",
        "colab": {
          "base_uri": "https://localhost:8080/",
          "height": 508
        },
        "outputId": "bb8ab8fc-da23-4c3e-d167-ae5a16d41958"
      },
      "outputs": [
        {
          "output_type": "display_data",
          "data": {
            "text/plain": [
              "<Figure size 640x480 with 1 Axes>"
            ],
            "image/png": "[encoded data removed]"
          },
          "metadata": {}
        }
      ],
      "source": [
        "# Class distribution (Normal vs. Attack) in SWaT\n",
        "class_distribution = data['Normal/Attack'].value_counts()\n",
        "fig, ax = plt.subplots()\n",
        "bar_plot = class_distribution.plot(kind='bar', color=['blue', 'red'], ax=ax)\n",
        "\n",
        "plt.title('Class Distribution: Attack vs Normal')\n",
        "plt.xlabel('Class')\n",
        "for i, count in enumerate(class_distribution):\n",
        "    ax.text(i, count, str(count), ha='center', va='bottom')\n",
        "\n",
        "plt.show()"
      ]
    },
    {
      "cell_type": "code",
      "execution_count": 11,
      "metadata": {
        "id": "kyxEk4oou9fg"
      },
      "outputs": [],
      "source": [
        "# Converting the Timestamp to a datetime and set it as an index\n",
        "data['Timestamp'] = pd.to_datetime(data['Timestamp'])\n",
        "data= data.set_index('Timestamp')"
      ]
    },
    {
      "cell_type": "code",
      "execution_count": 12,
      "metadata": {
        "id": "xWxdCzno4goe",
        "colab": {
          "base_uri": "https://localhost:8080/",
          "height": 564
        },
        "outputId": "ed9a5d53-91f0-4f58-cad4-c0f2a1a99883"
      },
      "outputs": [
        {
          "output_type": "display_data",
          "data": {
            "text/plain": [
              "<Figure size 1200x600 with 1 Axes>"
            ],
            "image/png": "[encoded data removed]"
          },
          "metadata": {}
        }
      ],
      "source": [
        "attack_data = data[data['Normal/Attack'] == 'Attack']\n",
        "\n",
        "# List of all sensors and actuators in the first stage\n",
        "first_stage_features = ['FIT101', 'LIT101', 'MV101', 'P101', 'P102', 'AIT201']\n",
        "\n",
        "plt.figure(figsize=(12, 6))\n",
        "for feature in first_stage_features:\n",
        "    plt.plot(data.index, data[feature], label=feature)\n",
        "    plt.scatter(attack_data.index, attack_data[feature], color='red', marker='x', label=None)\n",
        "plt.legend()\n",
        "plt.xlabel('Timestamp')\n",
        "plt.title('Plot with Attack Markers for First-Stage Sensors and Actuators')\n",
        "plt.show()"
      ]
    },
    {
      "cell_type": "markdown",
      "metadata": {
        "id": "OMZnHB7_mJb3"
      },
      "source": [
        "#**4. Data Preprocessing**"
      ]
    },
    {
      "cell_type": "markdown",
      "metadata": {
        "id": "fpEO-P6iHQwx"
      },
      "source": [
        "##Data Cleaning"
      ]
    },
    {
      "cell_type": "code",
      "execution_count": 13,
      "metadata": {
        "id": "TSBULQS5bqRZ"
      },
      "outputs": [],
      "source": [
        "# Remove duplicate rows\n",
        "data.drop_duplicates(inplace=True)"
      ]
    },
    {
      "cell_type": "code",
      "execution_count": 14,
      "metadata": {
        "id": "hEZPWhYybmZL",
        "colab": {
          "base_uri": "https://localhost:8080/"
        },
        "outputId": "d25e1636-bb19-4530-e31f-02f381fad0cf"
      },
      "outputs": [
        {
          "output_type": "execute_result",
          "data": {
            "text/plain": [
              "(928898, 52)"
            ]
          },
          "metadata": {},
          "execution_count": 14
        }
      ],
      "source": [
        "# Drop missing values\n",
        "data.dropna(inplace=True)\n",
        "\n",
        "data.shape"
      ]
    },
    {
      "cell_type": "code",
      "execution_count": 15,
      "metadata": {
        "id": "_S1wJC5jSBLR",
        "colab": {
          "base_uri": "https://localhost:8080/"
        },
        "outputId": "7764ed3d-1d21-49af-9482-9157c57257c5"
      },
      "outputs": [
        {
          "output_type": "execute_result",
          "data": {
            "text/plain": [
              "FIT101            3953\n",
              "LIT101           12162\n",
              "MV101                3\n",
              "P101                 2\n",
              "P102                 2\n",
              "AIT201            2338\n",
              "AIT202            1763\n",
              "AIT203            6868\n",
              "FIT201            4989\n",
              "MV201                3\n",
              "P201                 2\n",
              "P202                 1\n",
              "P203                 2\n",
              "P204                 2\n",
              "P205                 2\n",
              "P206                 2\n",
              "DPIT301           5180\n",
              "FIT301            8281\n",
              "LIT301           11966\n",
              "MV301                3\n",
              "MV302                3\n",
              "MV303                3\n",
              "MV304                3\n",
              "P301                 2\n",
              "P302                 2\n",
              "AIT401              37\n",
              "AIT402            4127\n",
              "FIT401             968\n",
              "LIT401           15141\n",
              "P401                 1\n",
              "P402                 2\n",
              "P403                 2\n",
              "P404                 1\n",
              "UV401                2\n",
              "AIT501            1724\n",
              "AIT502            3470\n",
              "AIT503            1123\n",
              "AIT504             565\n",
              "FIT501            1027\n",
              "FIT502            1560\n",
              "FIT503             499\n",
              "FIT504             289\n",
              "P501                 2\n",
              "P502                 1\n",
              "PIT501            1419\n",
              "PIT502             115\n",
              "PIT503            1334\n",
              "FIT601            6043\n",
              "P601                 1\n",
              "P602                 2\n",
              "P603                 1\n",
              "Normal/Attack        2\n",
              "dtype: int64"
            ]
          },
          "metadata": {},
          "execution_count": 15
        }
      ],
      "source": [
        "data.nunique()"
      ]
    },
    {
      "cell_type": "code",
      "execution_count": 16,
      "metadata": {
        "id": "E50vWibvR_vL"
      },
      "outputs": [],
      "source": [
        "data = data.loc[:, data.nunique() > 1]"
      ]
    },
    {
      "cell_type": "code",
      "execution_count": 17,
      "metadata": {
        "id": "Vl2lUXtfsKfF",
        "colab": {
          "base_uri": "https://localhost:8080/"
        },
        "outputId": "8270fbd6-4564-4aed-e500-112342ceba6d"
      },
      "outputs": [
        {
          "output_type": "stream",
          "name": "stdout",
          "text": [
            "<class 'pandas.core.frame.DataFrame'>\n",
            "DatetimeIndex: 928898 entries, 2015-12-22 16:00:00 to 2016-02-01 14:59:59\n",
            "Data columns (total 46 columns):\n",
            " #   Column         Non-Null Count   Dtype  \n",
            "---  ------         --------------   -----  \n",
            " 0   FIT101         928898 non-null  float64\n",
            " 1   LIT101         928898 non-null  float64\n",
            " 2   MV101          928898 non-null  int64  \n",
            " 3   P101           928898 non-null  int64  \n",
            " 4   P102           928898 non-null  int64  \n",
            " 5   AIT201         928898 non-null  float64\n",
            " 6   AIT202         928898 non-null  float64\n",
            " 7   AIT203         928898 non-null  float64\n",
            " 8   FIT201         928898 non-null  float64\n",
            " 9   MV201          928898 non-null  int64  \n",
            " 10  P201           928898 non-null  int64  \n",
            " 11  P203           928898 non-null  int64  \n",
            " 12  P204           928898 non-null  int64  \n",
            " 13  P205           928898 non-null  int64  \n",
            " 14  P206           928898 non-null  int64  \n",
            " 15  DPIT301        928898 non-null  float64\n",
            " 16  FIT301         928898 non-null  float64\n",
            " 17  LIT301         928898 non-null  float64\n",
            " 18  MV301          928898 non-null  int64  \n",
            " 19  MV302          928898 non-null  int64  \n",
            " 20  MV303          928898 non-null  int64  \n",
            " 21  MV304          928898 non-null  int64  \n",
            " 22  P301           928898 non-null  int64  \n",
            " 23  P302           928898 non-null  int64  \n",
            " 24  AIT401         928898 non-null  float64\n",
            " 25  AIT402         928898 non-null  float64\n",
            " 26  FIT401         928898 non-null  float64\n",
            " 27  LIT401         928898 non-null  float64\n",
            " 28  P402           928898 non-null  int64  \n",
            " 29  P403           928898 non-null  int64  \n",
            " 30  UV401          928898 non-null  int64  \n",
            " 31  AIT501         928898 non-null  float64\n",
            " 32  AIT502         928898 non-null  float64\n",
            " 33  AIT503         928898 non-null  float64\n",
            " 34  AIT504         928898 non-null  float64\n",
            " 35  FIT501         928898 non-null  float64\n",
            " 36  FIT502         928898 non-null  float64\n",
            " 37  FIT503         928898 non-null  float64\n",
            " 38  FIT504         928898 non-null  float64\n",
            " 39  P501           928898 non-null  int64  \n",
            " 40  PIT501         928898 non-null  float64\n",
            " 41  PIT502         928898 non-null  float64\n",
            " 42  PIT503         928898 non-null  float64\n",
            " 43  FIT601         928898 non-null  float64\n",
            " 44  P602           928898 non-null  int64  \n",
            " 45  Normal/Attack  928898 non-null  object \n",
            "dtypes: float64(25), int64(20), object(1)\n",
            "memory usage: 333.1+ MB\n"
          ]
        }
      ],
      "source": [
        " data.info()"
      ]
    },
    {
      "cell_type": "code",
      "execution_count": 18,
      "metadata": {
        "id": "yagabGLwZTnk"
      },
      "outputs": [],
      "source": [
        "# Convert \"Normal/Attack\" column to binary\n",
        "data['Normal/Attack'] = data['Normal/Attack'].apply(lambda x: 1 if x == 'Attack' else 0)\n"
      ]
    },
    {
      "cell_type": "code",
      "source": [
        "X = data.drop('Normal/Attack', axis=1)\n",
        "y= data['Normal/Attack']\n",
        "y = y.reset_index(drop=True)"
      ],
      "metadata": {
        "id": "fO8GY2-OWarg"
      },
      "execution_count": 19,
      "outputs": []
    },
    {
      "cell_type": "code",
      "execution_count": 20,
      "metadata": {
        "id": "DrnzIg3F0XX0"
      },
      "outputs": [],
      "source": [
        "# Numerical and categorical features\n",
        "numerical_features = []\n",
        "categorical_features = []\n",
        "\n",
        "for column in X.columns:\n",
        "    unique_values = X[column].nunique()\n",
        "    if unique_values > 10:\n",
        "        numerical_features.append(column)\n",
        "    else:\n",
        "        categorical_features.append(column)"
      ]
    },
    {
      "cell_type": "code",
      "execution_count": 21,
      "metadata": {
        "id": "A2cxfgyk-jZ7",
        "colab": {
          "base_uri": "https://localhost:8080/"
        },
        "outputId": "c67a129b-0331-40aa-fb80-39fa61c80011"
      },
      "outputs": [
        {
          "output_type": "execute_result",
          "data": {
            "text/plain": [
              "['FIT101',\n",
              " 'LIT101',\n",
              " 'AIT201',\n",
              " 'AIT202',\n",
              " 'AIT203',\n",
              " 'FIT201',\n",
              " 'DPIT301',\n",
              " 'FIT301',\n",
              " 'LIT301',\n",
              " 'AIT401',\n",
              " 'AIT402',\n",
              " 'FIT401',\n",
              " 'LIT401',\n",
              " 'AIT501',\n",
              " 'AIT502',\n",
              " 'AIT503',\n",
              " 'AIT504',\n",
              " 'FIT501',\n",
              " 'FIT502',\n",
              " 'FIT503',\n",
              " 'FIT504',\n",
              " 'PIT501',\n",
              " 'PIT502',\n",
              " 'PIT503',\n",
              " 'FIT601']"
            ]
          },
          "metadata": {},
          "execution_count": 21
        }
      ],
      "source": [
        "numerical_features"
      ]
    },
    {
      "cell_type": "code",
      "execution_count": 22,
      "metadata": {
        "id": "CGwpzfln-n69",
        "colab": {
          "base_uri": "https://localhost:8080/"
        },
        "outputId": "26e7dfa7-6dc1-4cfa-af66-301d17033e19"
      },
      "outputs": [
        {
          "output_type": "execute_result",
          "data": {
            "text/plain": [
              "['MV101',\n",
              " 'P101',\n",
              " 'P102',\n",
              " 'MV201',\n",
              " 'P201',\n",
              " 'P203',\n",
              " 'P204',\n",
              " 'P205',\n",
              " 'P206',\n",
              " 'MV301',\n",
              " 'MV302',\n",
              " 'MV303',\n",
              " 'MV304',\n",
              " 'P301',\n",
              " 'P302',\n",
              " 'P402',\n",
              " 'P403',\n",
              " 'UV401',\n",
              " 'P501',\n",
              " 'P602']"
            ]
          },
          "metadata": {},
          "execution_count": 22
        }
      ],
      "source": [
        "categorical_features"
      ]
    },
    {
      "cell_type": "code",
      "execution_count": 23,
      "metadata": {
        "id": "UyDvz0tc3vYf"
      },
      "outputs": [],
      "source": [
        "numerical_data = data[numerical_features]\n",
        "categorical_data = data[categorical_features]\n",
        "\n",
        "# Min-Max scaling for numerical features\n",
        "scaler = MinMaxScaler()\n",
        "numerical_data_scaled = scaler.fit_transform(numerical_data)\n",
        "numerical_data_scaled_df = pd.DataFrame(numerical_data_scaled, columns=numerical_data.columns)\n",
        "\n",
        "# One-hot encoding for categorical features\n",
        "encoder = OneHotEncoder(drop='first', sparse_output=False)\n",
        "encoder.fit(categorical_data)\n",
        "\n",
        "categorical_feature_names = encoder.get_feature_names_out(categorical_data.columns)\n",
        "categorical_data_encoded = encoder.transform(categorical_data)\n",
        "categorical_data_encoded_df = pd.DataFrame(categorical_data_encoded, columns=categorical_feature_names)\n",
        "preprocessed_data = pd.concat([numerical_data_scaled_df, categorical_data_encoded_df], axis=1)"
      ]
    },
    {
      "cell_type": "code",
      "source": [
        "preprocessed_data.info()"
      ],
      "metadata": {
        "id": "qOzUMsNyRUTx",
        "colab": {
          "base_uri": "https://localhost:8080/"
        },
        "outputId": "368da410-d8c1-4e44-9180-a497cf2f6f2e"
      },
      "execution_count": 24,
      "outputs": [
        {
          "output_type": "stream",
          "name": "stdout",
          "text": [
            "<class 'pandas.core.frame.DataFrame'>\n",
            "RangeIndex: 928898 entries, 0 to 928897\n",
            "Data columns (total 51 columns):\n",
            " #   Column   Non-Null Count   Dtype  \n",
            "---  ------   --------------   -----  \n",
            " 0   FIT101   928898 non-null  float64\n",
            " 1   LIT101   928898 non-null  float64\n",
            " 2   AIT201   928898 non-null  float64\n",
            " 3   AIT202   928898 non-null  float64\n",
            " 4   AIT203   928898 non-null  float64\n",
            " 5   FIT201   928898 non-null  float64\n",
            " 6   DPIT301  928898 non-null  float64\n",
            " 7   FIT301   928898 non-null  float64\n",
            " 8   LIT301   928898 non-null  float64\n",
            " 9   AIT401   928898 non-null  float64\n",
            " 10  AIT402   928898 non-null  float64\n",
            " 11  FIT401   928898 non-null  float64\n",
            " 12  LIT401   928898 non-null  float64\n",
            " 13  AIT501   928898 non-null  float64\n",
            " 14  AIT502   928898 non-null  float64\n",
            " 15  AIT503   928898 non-null  float64\n",
            " 16  AIT504   928898 non-null  float64\n",
            " 17  FIT501   928898 non-null  float64\n",
            " 18  FIT502   928898 non-null  float64\n",
            " 19  FIT503   928898 non-null  float64\n",
            " 20  FIT504   928898 non-null  float64\n",
            " 21  PIT501   928898 non-null  float64\n",
            " 22  PIT502   928898 non-null  float64\n",
            " 23  PIT503   928898 non-null  float64\n",
            " 24  FIT601   928898 non-null  float64\n",
            " 25  MV101_1  928898 non-null  float64\n",
            " 26  MV101_2  928898 non-null  float64\n",
            " 27  P101_2   928898 non-null  float64\n",
            " 28  P102_2   928898 non-null  float64\n",
            " 29  MV201_1  928898 non-null  float64\n",
            " 30  MV201_2  928898 non-null  float64\n",
            " 31  P201_2   928898 non-null  float64\n",
            " 32  P203_2   928898 non-null  float64\n",
            " 33  P204_2   928898 non-null  float64\n",
            " 34  P205_2   928898 non-null  float64\n",
            " 35  P206_2   928898 non-null  float64\n",
            " 36  MV301_1  928898 non-null  float64\n",
            " 37  MV301_2  928898 non-null  float64\n",
            " 38  MV302_1  928898 non-null  float64\n",
            " 39  MV302_2  928898 non-null  float64\n",
            " 40  MV303_1  928898 non-null  float64\n",
            " 41  MV303_2  928898 non-null  float64\n",
            " 42  MV304_1  928898 non-null  float64\n",
            " 43  MV304_2  928898 non-null  float64\n",
            " 44  P301_2   928898 non-null  float64\n",
            " 45  P302_2   928898 non-null  float64\n",
            " 46  P402_2   928898 non-null  float64\n",
            " 47  P403_2   928898 non-null  float64\n",
            " 48  UV401_2  928898 non-null  float64\n",
            " 49  P501_2   928898 non-null  float64\n",
            " 50  P602_2   928898 non-null  float64\n",
            "dtypes: float64(51)\n",
            "memory usage: 361.4 MB\n"
          ]
        }
      ]
    },
    {
      "cell_type": "code",
      "source": [
        "preprocessed_data.head(3)"
      ],
      "metadata": {
        "id": "YJViPEflbnM3",
        "colab": {
          "base_uri": "https://localhost:8080/",
          "height": 193
        },
        "outputId": "97cbb2a0-7de3-46c8-91a5-b67215d1f87a"
      },
      "execution_count": 25,
      "outputs": [
        {
          "output_type": "execute_result",
          "data": {
            "text/plain": [
              "     FIT101    LIT101    AIT201    AIT202    AIT203    FIT201   DPIT301  \\\n",
              "0  0.894987  0.160292  0.730144  0.732892  0.073596  0.874201  0.462186   \n",
              "1  0.890230  0.159845  0.730144  0.732892  0.073596  0.873249  0.462186   \n",
              "2  0.883848  0.159533  0.730144  0.732892  0.073596  0.872796  0.463182   \n",
              "\n",
              "     FIT301    LIT301  AIT401  ...  MV303_2  MV304_1  MV304_2  P301_2  P302_2  \\\n",
              "0  0.940694  0.182199     0.0  ...      0.0      1.0      0.0     1.0     0.0   \n",
              "1  0.940371  0.182199     0.0  ...      0.0      1.0      0.0     1.0     0.0   \n",
              "2  0.939886  0.182199     0.0  ...      0.0      1.0      0.0     1.0     0.0   \n",
              "\n",
              "   P402_2  P403_2  UV401_2  P501_2  P602_2  \n",
              "0     0.0     0.0      0.0     0.0     0.0  \n",
              "1     0.0     0.0      0.0     0.0     0.0  \n",
              "2     0.0     0.0      0.0     0.0     0.0  \n",
              "\n",
              "[3 rows x 51 columns]"
            ],
            "text/html": [
              "\n",
              "  <div id=\"df-dddcd415-ac39-46da-9905-8faed77f34e7\" class=\"colab-df-container\">\n",
              "    <div>\n",
              "<style scoped>\n",
              "    .dataframe tbody tr th:only-of-type {\n",
              "        vertical-align: middle;\n",
              "    }\n",
              "\n",
              "    .dataframe tbody tr th {\n",
              "        vertical-align: top;\n",
              "    }\n",
              "\n",
              "    .dataframe thead th {\n",
              "        text-align: right;\n",
              "    }\n",
              "</style>\n",
              "<table border=\"1\" class=\"dataframe\">\n",
              "  <thead>\n",
              "    <tr style=\"text-align: right;\">\n",
              "      <th></th>\n",
              "      <th>FIT101</th>\n",
              "      <th>LIT101</th>\n",
              "      <th>AIT201</th>\n",
              "      <th>AIT202</th>\n",
              "      <th>AIT203</th>\n",
              "      <th>FIT201</th>\n",
              "      <th>DPIT301</th>\n",
              "      <th>FIT301</th>\n",
              "      <th>LIT301</th>\n",
              "      <th>AIT401</th>\n",
              "      <th>...</th>\n",
              "      <th>MV303_2</th>\n",
              "      <th>MV304_1</th>\n",
              "      <th>MV304_2</th>\n",
              "      <th>P301_2</th>\n",
              "      <th>P302_2</th>\n",
              "      <th>P402_2</th>\n",
              "      <th>P403_2</th>\n",
              "      <th>UV401_2</th>\n",
              "      <th>P501_2</th>\n",
              "      <th>P602_2</th>\n",
              "    </tr>\n",
              "  </thead>\n",
              "  <tbody>\n",
              "    <tr>\n",
              "      <th>0</th>\n",
              "      <td>0.894987</td>\n",
              "      <td>0.160292</td>\n",
              "      <td>0.730144</td>\n",
              "      <td>0.732892</td>\n",
              "      <td>0.073596</td>\n",
              "      <td>0.874201</td>\n",
              "      <td>0.462186</td>\n",
              "      <td>0.940694</td>\n",
              "      <td>0.182199</td>\n",
              "      <td>0.0</td>\n",
              "      <td>...</td>\n",
              "      <td>0.0</td>\n",
              "      <td>1.0</td>\n",
              "      <td>0.0</td>\n",
              "      <td>1.0</td>\n",
              "      <td>0.0</td>\n",
              "      <td>0.0</td>\n",
              "      <td>0.0</td>\n",
              "      <td>0.0</td>\n",
              "      <td>0.0</td>\n",
              "      <td>0.0</td>\n",
              "    </tr>\n",
              "    <tr>\n",
              "      <th>1</th>\n",
              "      <td>0.890230</td>\n",
              "      <td>0.159845</td>\n",
              "      <td>0.730144</td>\n",
              "      <td>0.732892</td>\n",
              "      <td>0.073596</td>\n",
              "      <td>0.873249</td>\n",
              "      <td>0.462186</td>\n",
              "      <td>0.940371</td>\n",
              "      <td>0.182199</td>\n",
              "      <td>0.0</td>\n",
              "      <td>...</td>\n",
              "      <td>0.0</td>\n",
              "      <td>1.0</td>\n",
              "      <td>0.0</td>\n",
              "      <td>1.0</td>\n",
              "      <td>0.0</td>\n",
              "      <td>0.0</td>\n",
              "      <td>0.0</td>\n",
              "      <td>0.0</td>\n",
              "      <td>0.0</td>\n",
              "      <td>0.0</td>\n",
              "    </tr>\n",
              "    <tr>\n",
              "      <th>2</th>\n",
              "      <td>0.883848</td>\n",
              "      <td>0.159533</td>\n",
              "      <td>0.730144</td>\n",
              "      <td>0.732892</td>\n",
              "      <td>0.073596</td>\n",
              "      <td>0.872796</td>\n",
              "      <td>0.463182</td>\n",
              "      <td>0.939886</td>\n",
              "      <td>0.182199</td>\n",
              "      <td>0.0</td>\n",
              "      <td>...</td>\n",
              "      <td>0.0</td>\n",
              "      <td>1.0</td>\n",
              "      <td>0.0</td>\n",
              "      <td>1.0</td>\n",
              "      <td>0.0</td>\n",
              "      <td>0.0</td>\n",
              "      <td>0.0</td>\n",
              "      <td>0.0</td>\n",
              "      <td>0.0</td>\n",
              "      <td>0.0</td>\n",
              "    </tr>\n",
              "  </tbody>\n",
              "</table>\n",
              "<p>3 rows × 51 columns</p>\n",
              "</div>\n",
              "    <div class=\"colab-df-buttons\">\n",
              "\n",
              "  <div class=\"colab-df-container\">\n",
              "    <button class=\"colab-df-convert\" onclick=\"convertToInteractive('df-dddcd415-ac39-46da-9905-8faed77f34e7')\"\n",
              "            title=\"Convert this dataframe to an interactive table.\"\n",
              "            style=\"display:none;\">\n",
              "\n",
              "  <svg xmlns=\"http://www.w3.org/2000/svg\" height=\"24px\" viewBox=\"0 -960 960 960\">\n",
              "    <path d=\"M120-120v-720h720v720H120Zm60-500h600v-160H180v160Zm220 220h160v-160H400v160Zm0 220h160v-160H400v160ZM180-400h160v-160H180v160Zm440 0h160v-160H620v160ZM180-180h160v-160H180v160Zm440 0h160v-160H620v160Z\"/>\n",
              "  </svg>\n",
              "    </button>\n",
              "\n",
              "  <style>\n",
              "    .colab-df-container {\n",
              "      display:flex;\n",
              "      gap: 12px;\n",
              "    }\n",
              "\n",
              "    .colab-df-convert {\n",
              "      background-color: #E8F0FE;\n",
              "      border: none;\n",
              "      border-radius: 50%;\n",
              "      cursor: pointer;\n",
              "      display: none;\n",
              "      fill: #1967D2;\n",
              "      height: 32px;\n",
              "      padding: 0 0 0 0;\n",
              "      width: 32px;\n",
              "    }\n",
              "\n",
              "    .colab-df-convert:hover {\n",
              "      background-color: #E2EBFA;\n",
              "      box-shadow: 0px 1px 2px rgba(60, 64, 67, 0.3), 0px 1px 3px 1px rgba(60, 64, 67, 0.15);\n",
              "      fill: #174EA6;\n",
              "    }\n",
              "\n",
              "    .colab-df-buttons div {\n",
              "      margin-bottom: 4px;\n",
              "    }\n",
              "\n",
              "    [theme=dark] .colab-df-convert {\n",
              "      background-color: #3B4455;\n",
              "      fill: #D2E3FC;\n",
              "    }\n",
              "\n",
              "    [theme=dark] .colab-df-convert:hover {\n",
              "      background-color: #434B5C;\n",
              "      box-shadow: 0px 1px 3px 1px rgba(0, 0, 0, 0.15);\n",
              "      filter: drop-shadow(0px 1px 2px rgba(0, 0, 0, 0.3));\n",
              "      fill: #FFFFFF;\n",
              "    }\n",
              "  </style>\n",
              "\n",
              "    <script>\n",
              "      const buttonEl =\n",
              "        document.querySelector('#df-dddcd415-ac39-46da-9905-8faed77f34e7 button.colab-df-convert');\n",
              "      buttonEl.style.display =\n",
              "        google.colab.kernel.accessAllowed ? 'block' : 'none';\n",
              "\n",
              "      async function convertToInteractive(key) {\n",
              "        const element = document.querySelector('#df-dddcd415-ac39-46da-9905-8faed77f34e7');\n",
              "        const dataTable =\n",
              "          await google.colab.kernel.invokeFunction('convertToInteractive',\n",
              "                                                    [key], {});\n",
              "        if (!dataTable) return;\n",
              "\n",
              "        const docLinkHtml = 'Like what you see? Visit the ' +\n",
              "          '<a target=\"_blank\" href=https://colab.research.google.com/notebooks/data_table.ipynb>data table notebook</a>'\n",
              "          + ' to learn more about interactive tables.';\n",
              "        element.innerHTML = '';\n",
              "        dataTable['output_type'] = 'display_data';\n",
              "        await google.colab.output.renderOutput(dataTable, element);\n",
              "        const docLink = document.createElement('div');\n",
              "        docLink.innerHTML = docLinkHtml;\n",
              "        element.appendChild(docLink);\n",
              "      }\n",
              "    </script>\n",
              "  </div>\n",
              "\n",
              "\n",
              "<div id=\"df-7077db53-c551-495c-9cd4-7c7d8bda0c51\">\n",
              "  <button class=\"colab-df-quickchart\" onclick=\"quickchart('df-7077db53-c551-495c-9cd4-7c7d8bda0c51')\"\n",
              "            title=\"Suggest charts\"\n",
              "            style=\"display:none;\">\n",
              "\n",
              "<svg xmlns=\"http://www.w3.org/2000/svg\" height=\"24px\"viewBox=\"0 0 24 24\"\n",
              "     width=\"24px\">\n",
              "    <g>\n",
              "        <path d=\"M19 3H5c-1.1 0-2 .9-2 2v14c0 1.1.9 2 2 2h14c1.1 0 2-.9 2-2V5c0-1.1-.9-2-2-2zM9 17H7v-7h2v7zm4 0h-2V7h2v10zm4 0h-2v-4h2v4z\"/>\n",
              "    </g>\n",
              "</svg>\n",
              "  </button>\n",
              "\n",
              "<style>\n",
              "  .colab-df-quickchart {\n",
              "      --bg-color: #E8F0FE;\n",
              "      --fill-color: #1967D2;\n",
              "      --hover-bg-color: #E2EBFA;\n",
              "      --hover-fill-color: #174EA6;\n",
              "      --disabled-fill-color: #AAA;\n",
              "      --disabled-bg-color: #DDD;\n",
              "  }\n",
              "\n",
              "  [theme=dark] .colab-df-quickchart {\n",
              "      --bg-color: #3B4455;\n",
              "      --fill-color: #D2E3FC;\n",
              "      --hover-bg-color: #434B5C;\n",
              "      --hover-fill-color: #FFFFFF;\n",
              "      --disabled-bg-color: #3B4455;\n",
              "      --disabled-fill-color: #666;\n",
              "  }\n",
              "\n",
              "  .colab-df-quickchart {\n",
              "    background-color: var(--bg-color);\n",
              "    border: none;\n",
              "    border-radius: 50%;\n",
              "    cursor: pointer;\n",
              "    display: none;\n",
              "    fill: var(--fill-color);\n",
              "    height: 32px;\n",
              "    padding: 0;\n",
              "    width: 32px;\n",
              "  }\n",
              "\n",
              "  .colab-df-quickchart:hover {\n",
              "    background-color: var(--hover-bg-color);\n",
              "    box-shadow: 0 1px 2px rgba(60, 64, 67, 0.3), 0 1px 3px 1px rgba(60, 64, 67, 0.15);\n",
              "    fill: var(--button-hover-fill-color);\n",
              "  }\n",
              "\n",
              "  .colab-df-quickchart-complete:disabled,\n",
              "  .colab-df-quickchart-complete:disabled:hover {\n",
              "    background-color: var(--disabled-bg-color);\n",
              "    fill: var(--disabled-fill-color);\n",
              "    box-shadow: none;\n",
              "  }\n",
              "\n",
              "  .colab-df-spinner {\n",
              "    border: 2px solid var(--fill-color);\n",
              "    border-color: transparent;\n",
              "    border-bottom-color: var(--fill-color);\n",
              "    animation:\n",
              "      spin 1s steps(1) infinite;\n",
              "  }\n",
              "\n",
              "  @keyframes spin {\n",
              "    0% {\n",
              "      border-color: transparent;\n",
              "      border-bottom-color: var(--fill-color);\n",
              "      border-left-color: var(--fill-color);\n",
              "    }\n",
              "    20% {\n",
              "      border-color: transparent;\n",
              "      border-left-color: var(--fill-color);\n",
              "      border-top-color: var(--fill-color);\n",
              "    }\n",
              "    30% {\n",
              "      border-color: transparent;\n",
              "      border-left-color: var(--fill-color);\n",
              "      border-top-color: var(--fill-color);\n",
              "      border-right-color: var(--fill-color);\n",
              "    }\n",
              "    40% {\n",
              "      border-color: transparent;\n",
              "      border-right-color: var(--fill-color);\n",
              "      border-top-color: var(--fill-color);\n",
              "    }\n",
              "    60% {\n",
              "      border-color: transparent;\n",
              "      border-right-color: var(--fill-color);\n",
              "    }\n",
              "    80% {\n",
              "      border-color: transparent;\n",
              "      border-right-color: var(--fill-color);\n",
              "      border-bottom-color: var(--fill-color);\n",
              "    }\n",
              "    90% {\n",
              "      border-color: transparent;\n",
              "      border-bottom-color: var(--fill-color);\n",
              "    }\n",
              "  }\n",
              "</style>\n",
              "\n",
              "  <script>\n",
              "    async function quickchart(key) {\n",
              "      const quickchartButtonEl =\n",
              "        document.querySelector('#' + key + ' button');\n",
              "      quickchartButtonEl.disabled = true;  // To prevent multiple clicks.\n",
              "      quickchartButtonEl.classList.add('colab-df-spinner');\n",
              "      try {\n",
              "        const charts = await google.colab.kernel.invokeFunction(\n",
              "            'suggestCharts', [key], {});\n",
              "      } catch (error) {\n",
              "        console.error('Error during call to suggestCharts:', error);\n",
              "      }\n",
              "      quickchartButtonEl.classList.remove('colab-df-spinner');\n",
              "      quickchartButtonEl.classList.add('colab-df-quickchart-complete');\n",
              "    }\n",
              "    (() => {\n",
              "      let quickchartButtonEl =\n",
              "        document.querySelector('#df-7077db53-c551-495c-9cd4-7c7d8bda0c51 button');\n",
              "      quickchartButtonEl.style.display =\n",
              "        google.colab.kernel.accessAllowed ? 'block' : 'none';\n",
              "    })();\n",
              "  </script>\n",
              "</div>\n",
              "    </div>\n",
              "  </div>\n"
            ]
          },
          "metadata": {},
          "execution_count": 25
        }
      ]
    },
    {
      "cell_type": "code",
      "source": [
        "# Save preprocessed data to drive\n",
        "preprocessed_data.to_csv('/content/drive/My Drive/swat/preprocessed_data.csv', index=False)"
      ],
      "metadata": {
        "id": "AiUd3YkKJYUx"
      },
      "execution_count": null,
      "outputs": []
    },
    {
      "cell_type": "markdown",
      "source": [
        "**Loading preprocessed data for DTW**"
      ],
      "metadata": {
        "id": "YD851RJjUE7u"
      }
    },
    {
      "cell_type": "code",
      "source": [
        "SWaT_preprocessed = pd.read_csv('/content/drive/My Drive/swat/preprocessed_data.csv')"
      ],
      "metadata": {
        "id": "nOrAGUB8UEgp"
      },
      "execution_count": null,
      "outputs": []
    },
    {
      "cell_type": "code",
      "source": [
        "sensors=['FIT101','LIT101']"
      ],
      "metadata": {
        "id": "s4Zz3wdCXVcH"
      },
      "execution_count": null,
      "outputs": []
    },
    {
      "cell_type": "code",
      "execution_count": null,
      "metadata": {
        "id": "NvEFFfd2DcYh"
      },
      "outputs": [],
      "source": [
        "X=SWaT_preprocessed"
      ]
    },
    {
      "cell_type": "markdown",
      "source": [
        "#**Applying Data Time WArping (DTW)**"
      ],
      "metadata": {
        "id": "eM43x9M_e_uQ"
      }
    },
    {
      "cell_type": "code",
      "source": [
        "from scipy.spatial.distance import euclidean\n",
        "from joblib import Parallel, delayed\n",
        "from fastdtw import fastdtw"
      ],
      "metadata": {
        "id": "ew_Bo7bL8jz5"
      },
      "execution_count": null,
      "outputs": []
    },
    {
      "cell_type": "code",
      "source": [
        "sampled_data = X.sample(n=5000, random_state=42)\n",
        "sampled_data = sampled_data.astype(np.float64)"
      ],
      "metadata": {
        "id": "k2CtuDz0Sjqs"
      },
      "execution_count": null,
      "outputs": []
    },
    {
      "cell_type": "code",
      "source": [
        "sampled_data_dtw=sampled_data[sensors]"
      ],
      "metadata": {
        "id": "A9N2CnJZBnkJ"
      },
      "execution_count": null,
      "outputs": []
    },
    {
      "cell_type": "code",
      "source": [
        "sampled_data_dtw.info()"
      ],
      "metadata": {
        "id": "XyOHwIeVShLF",
        "colab": {
          "base_uri": "https://localhost:8080/"
        },
        "outputId": "eefbdd80-aff6-4f75-f15f-4500568a07ce"
      },
      "execution_count": null,
      "outputs": [
        {
          "output_type": "stream",
          "name": "stdout",
          "text": [
            "<class 'pandas.core.frame.DataFrame'>\n",
            "Int64Index: 5000 entries, 693046 to 870610\n",
            "Data columns (total 2 columns):\n",
            " #   Column  Non-Null Count  Dtype  \n",
            "---  ------  --------------  -----  \n",
            " 0   FIT101  5000 non-null   float64\n",
            " 1   LIT101  5000 non-null   float64\n",
            "dtypes: float64(2)\n",
            "memory usage: 117.2 KB\n"
          ]
        }
      ]
    },
    {
      "cell_type": "code",
      "source": [
        "columns_for_dtw = sampled_data.columns"
      ],
      "metadata": {
        "id": "u76mPWE3Seny"
      },
      "execution_count": null,
      "outputs": []
    },
    {
      "cell_type": "code",
      "source": [
        "def calculate_dtw_distance(seq1, seq2):\n",
        "    distance, _ = fastdtw(seq1, seq2)\n",
        "    return distance"
      ],
      "metadata": {
        "id": "ixgC51KCSa81"
      },
      "execution_count": null,
      "outputs": []
    },
    {
      "cell_type": "code",
      "source": [
        "def calculate_dtw_parallel(row, df, columns_for_dtw):\n",
        "    current_seq = row[columns_for_dtw].values.flatten()\n",
        "    distances = []\n",
        "\n",
        "    for idx, r in df.iterrows():\n",
        "        if row.name != idx:\n",
        "            compared_seq = r[columns_for_dtw].values.flatten()\n",
        "            distance = calculate_dtw_distance(current_seq, compared_seq)\n",
        "            distances.append(distance)\n",
        "\n",
        "    min_distance = min(distances) if distances else None\n",
        "    return min_distance"
      ],
      "metadata": {
        "id": "IxpnLm0RSYQ-"
      },
      "execution_count": null,
      "outputs": []
    },
    {
      "cell_type": "code",
      "source": [
        "num_cores = -1\n",
        "dtw_distances = Parallel(n_jobs=num_cores)(\n",
        "    delayed(calculate_dtw_parallel)(row, sampled_data, columns_for_dtw) for _, row in sampled_data.iterrows()\n",
        ")"
      ],
      "metadata": {
        "id": "fEbbDr-kSVkV"
      },
      "execution_count": null,
      "outputs": []
    },
    {
      "cell_type": "code",
      "source": [
        "dtw_distances"
      ],
      "metadata": {
        "colab": {
          "base_uri": "https://localhost:8080/"
        },
        "id": "CrBEtnfavb0b",
        "outputId": "f2225696-85d9-4369-90f5-37f61ed88264"
      },
      "execution_count": null,
      "outputs": [
        {
          "output_type": "execute_result",
          "data": {
            "text/plain": [
              "[0.07605044579640977,\n",
              " 0.0495477329171756,\n",
              " 0.37347412621044773,\n",
              " 0.008202577396307854,\n",
              " 0.17133095145771507,\n",
              " 0.03603869489792816,\n",
              " 0.05144447575660238,\n",
              " 0.1330630470737353,\n",
              " 1.46712391579157,\n",
              " 0.07944405191033709,\n",
              " 0.07969480326481905,\n",
              " 0.04379260319018782,\n",
              " 0.09780761933239872,\n",
              " 0.023940932479920574,\n",
              " 0.14980362178859066,\n",
              " 0.05315864787791641,\n",
              " 0.08556108784293237,\n",
              " 0.06158766428291798,\n",
              " 0.05931444876584384,\n",
              " 0.06045459173901696,\n",
              " 0.070385593403607,\n",
              " 0.05603955738511841,\n",
              " 0.13206158318372524,\n",
              " 0.06815585208096682,\n",
              " 0.0647855349301397,\n",
              " 0.055711424794132214,\n",
              " 0.05371611055964433,\n",
              " 0.05710452389992782,\n",
              " 0.07012202955572412,\n",
              " 0.09666219294831709,\n",
              " 0.12114441213388129,\n",
              " 0.06388290783140196,\n",
              " 0.03603869489792816,\n",
              " 0.05277800495791299,\n",
              " 0.08859550138752052,\n",
              " 0.07762288690802521,\n",
              " 0.3268923494362833,\n",
              " 0.1259215579371138,\n",
              " 0.15890952499872105,\n",
              " 0.028012091359205182,\n",
              " 0.08667537157965176,\n",
              " 0.08993224373638381,\n",
              " 0.10353057393883361,\n",
              " 0.10868461079802116,\n",
              " 0.05810917813797489,\n",
              " 0.1526361743924426,\n",
              " 0.0037376974693862546,\n",
              " 0.051047579783541686,\n",
              " 0.01196410043032244,\n",
              " 0.05873845233556235,\n",
              " 0.059340408012139106,\n",
              " 0.10171634835373101,\n",
              " 0.038064686026512196,\n",
              " 0.11664264625481609,\n",
              " 0.06722022080046125,\n",
              " 0.0395776390084299,\n",
              " 0.009297787959222759,\n",
              " 0.15993249853409336,\n",
              " 0.057946814769161886,\n",
              " 0.08725261620495478,\n",
              " 0.34645434281780196,\n",
              " 0.05311063227105442,\n",
              " 0.10419838066820532,\n",
              " 0.04711989935106324,\n",
              " 0.08606005306104628,\n",
              " 0.03172724346633617,\n",
              " 0.13108067922428507,\n",
              " 0.11407335708555998,\n",
              " 0.10389577845270903,\n",
              " 0.08228700163281,\n",
              " 0.16503155086071625,\n",
              " 0.6248678842859278,\n",
              " 0.31978382728087323,\n",
              " 0.07560626326618183,\n",
              " 0.14960605734293714,\n",
              " 0.09649152936718644,\n",
              " 0.10113838011431729,\n",
              " 0.09122840443452424,\n",
              " 0.1764316391981784,\n",
              " 0.13070980941996774,\n",
              " 0.024057307529677698,\n",
              " 0.027449282237189593,\n",
              " 0.09140808284565695,\n",
              " 0.034680525019114214,\n",
              " 0.07537250101770002,\n",
              " 0.10751070686477511,\n",
              " 0.11816115364884877,\n",
              " 0.07138376465173966,\n",
              " 0.05922125635466145,\n",
              " 0.025488487180147873,\n",
              " 0.06635405085667932,\n",
              " 0.12192564330926133,\n",
              " 0.07959193512650245,\n",
              " 0.04078045886695912,\n",
              " 0.03748632087370496,\n",
              " 0.12595157241013505,\n",
              " 0.11394843941367248,\n",
              " 0.054939790782290054,\n",
              " 0.0505282648093896,\n",
              " 0.06531016028660343,\n",
              " 0.09246147785906166,\n",
              " 0.14329965097863512,\n",
              " 0.07315223196406902,\n",
              " 0.08057753773278538,\n",
              " 0.1111689190733052,\n",
              " 0.04091117379488603,\n",
              " 0.004685330495047254,\n",
              " 0.415817855398629,\n",
              " 0.08123163351483222,\n",
              " 0.10149313204770097,\n",
              " 0.13675290627635744,\n",
              " 0.07605044579640977,\n",
              " 0.04820449764579443,\n",
              " 0.08929657896637258,\n",
              " 0.048078146112649725,\n",
              " 0.03171847104173489,\n",
              " 0.10098406727356794,\n",
              " 0.07292952221703186,\n",
              " 0.08541798570415735,\n",
              " 0.06422720246619734,\n",
              " 0.09063496784463614,\n",
              " 0.06840464539407858,\n",
              " 0.06474175672323362,\n",
              " 0.07252035091468141,\n",
              " 0.5161471752374744,\n",
              " 0.10921506641364445,\n",
              " 0.02578123398310056,\n",
              " 0.06440890573031327,\n",
              " 0.336001872846432,\n",
              " 0.07080950253222422,\n",
              " 0.14667428704398253,\n",
              " 0.08722404595536039,\n",
              " 0.12870460786073903,\n",
              " 0.05495306146475719,\n",
              " 0.0824558895359414,\n",
              " 0.015676119521766507,\n",
              " 0.12939788781856051,\n",
              " 0.14340716365599548,\n",
              " 0.09626742422192264,\n",
              " 0.02281218901892714,\n",
              " 0.10806596013897664,\n",
              " 0.19768813178217354,\n",
              " 0.014698578324426864,\n",
              " 0.09301131218635715,\n",
              " 0.20103384247048495,\n",
              " 0.575450772508808,\n",
              " 0.028520265165801667,\n",
              " 0.07038877382236514,\n",
              " 0.04732527379457536,\n",
              " 0.07180883296242316,\n",
              " 0.09483856572796721,\n",
              " 0.11837472623897131,\n",
              " 0.10296663821090929,\n",
              " 0.011848750116424634,\n",
              " 0.06187762072097211,\n",
              " 0.07052404380973681,\n",
              " 0.09639264410194605,\n",
              " 0.09408349582993816,\n",
              " 0.032962391974114706,\n",
              " 0.07607165586462283,\n",
              " 0.08961003495865012,\n",
              " 0.04887406364765351,\n",
              " 0.0281234639942721,\n",
              " 0.04808210021833678,\n",
              " 0.05539392215136517,\n",
              " 0.1448249372626258,\n",
              " 0.07992354154294162,\n",
              " 0.1743954624990249,\n",
              " 0.06841106459407463,\n",
              " 0.09826062917103764,\n",
              " 0.0037376974693862546,\n",
              " 0.07812469628199104,\n",
              " 0.04593162736557996,\n",
              " 0.0686822705382446,\n",
              " 0.06832584906851921,\n",
              " 0.06508831515433708,\n",
              " 0.0099436134497917,\n",
              " 0.05150408727888715,\n",
              " 0.08620738330626794,\n",
              " 0.06708920277160217,\n",
              " 1.3522523564313986,\n",
              " 0.08971156249423017,\n",
              " 0.07109306171968419,\n",
              " 0.24106762271634286,\n",
              " 0.10861682953116064,\n",
              " 0.05335056902203361,\n",
              " 0.0963643545037473,\n",
              " 0.12351609886651846,\n",
              " 0.01207136368044337,\n",
              " 0.04091117379488603,\n",
              " 0.08254894669449704,\n",
              " 0.14526815597876583,\n",
              " 0.12137905763536316,\n",
              " 0.06649102358226372,\n",
              " 0.00666774120599066,\n",
              " 0.08162381336305825,\n",
              " 0.054041560437469424,\n",
              " 0.14993773036567778,\n",
              " 0.11954429457794893,\n",
              " 0.07349662369992932,\n",
              " 0.0692481563748457,\n",
              " 0.2242444926291005,\n",
              " 0.08779930992361541,\n",
              " 0.08002698317070801,\n",
              " 0.1184171145849782,\n",
              " 0.17950945618006453,\n",
              " 0.08017805211870555,\n",
              " 0.2644967815854756,\n",
              " 0.10032720770353819,\n",
              " 0.09670255416436783,\n",
              " 0.0779682725238615,\n",
              " 0.06913849328425638,\n",
              " 0.1701504156871701,\n",
              " 0.2631963521407931,\n",
              " 0.06870422020053311,\n",
              " 0.20294048848541932,\n",
              " 0.10637800901622667,\n",
              " 0.22757462898063496,\n",
              " 0.012392072212122369,\n",
              " 0.32488719307193803,\n",
              " 0.0592027732942976,\n",
              " 0.11521955346262495,\n",
              " 0.05720857120832393,\n",
              " 0.050499463757154445,\n",
              " 0.08151476476909393,\n",
              " 0.2268774969540564,\n",
              " 0.09702263865358969,\n",
              " 0.21731602713570627,\n",
              " 0.11161849101489027,\n",
              " 0.08823915874954755,\n",
              " 0.07254563577164891,\n",
              " 0.06712318410955345,\n",
              " 0.0451372228192901,\n",
              " 0.08059179653769961,\n",
              " 0.06420505920579257,\n",
              " 0.14412184066871814,\n",
              " 0.3029188154368082,\n",
              " 0.06316490521183907,\n",
              " 1.4905728191096927,\n",
              " 0.1421617623143347,\n",
              " 0.0693065324701119,\n",
              " 0.011742476590309886,\n",
              " 0.15430752179841206,\n",
              " 0.08780528304497269,\n",
              " 0.04222328749498924,\n",
              " 0.08801635964310672,\n",
              " 0.07252035091468141,\n",
              " 0.06794299929878696,\n",
              " 0.058422033056785685,\n",
              " 0.38277157937915485,\n",
              " 0.07979754670955404,\n",
              " 0.12287360952181281,\n",
              " 0.032167792625240055,\n",
              " 0.03793180936839334,\n",
              " 0.08391478308679959,\n",
              " 0.14460614119540477,\n",
              " 0.10578240060146445,\n",
              " 0.08591442600439075,\n",
              " 0.06511339568416803,\n",
              " 0.4241187245662166,\n",
              " 0.1773377091520932,\n",
              " 0.055451654313150134,\n",
              " 0.07389113150027643,\n",
              " 0.2321245454623897,\n",
              " 0.009958696969635139,\n",
              " 0.11751121531890787,\n",
              " 0.0929201747577583,\n",
              " 0.09469125466157963,\n",
              " 0.039223916004288956,\n",
              " 0.07990406062200722,\n",
              " 0.1380584511033091,\n",
              " 0.057607405515968116,\n",
              " 0.0863000264020439,\n",
              " 0.21312861500328348,\n",
              " 0.07915558250823224,\n",
              " 0.07464378929509947,\n",
              " 0.22068113746748746,\n",
              " 0.12680613592836568,\n",
              " 0.10578718484317061,\n",
              " 0.12954395717107192,\n",
              " 0.05144447575660238,\n",
              " 0.14020467128222536,\n",
              " 0.3375980616160323,\n",
              " 0.0787204645744524,\n",
              " 0.09282948361359551,\n",
              " 0.06388290783140196,\n",
              " 0.09450754113308595,\n",
              " 0.05633192463528543,\n",
              " 0.07096107119333966,\n",
              " 0.34387472565841165,\n",
              " 0.026333224351928322,\n",
              " 0.19693764571389005,\n",
              " 0.05592097941819714,\n",
              " 0.12081370434196678,\n",
              " 0.004821692020818049,\n",
              " 0.08579003306649013,\n",
              " 0.08266756597209707,\n",
              " 0.07497778961623089,\n",
              " 0.1224687853279082,\n",
              " 0.15787935765658032,\n",
              " 0.23884000486925777,\n",
              " 0.059451463463700435,\n",
              " 0.21198050924855774,\n",
              " 0.057571500536892875,\n",
              " 0.16707427503021888,\n",
              " 0.059959946652505466,\n",
              " 0.035245377697386726,\n",
              " 0.08581461973563251,\n",
              " 0.02384613644954503,\n",
              " 0.17176412483980955,\n",
              " 0.6264456219716233,\n",
              " 0.023916626138878398,\n",
              " 0.02861654836635588,\n",
              " 0.10081887415655551,\n",
              " 0.039279438305772574,\n",
              " 0.07154973010647725,\n",
              " 0.3216204326663946,\n",
              " 0.08625098998900509,\n",
              " 0.10228025580576418,\n",
              " 0.14273541079546334,\n",
              " 0.08004748582154944,\n",
              " 0.025590798636636325,\n",
              " 0.06246321993245729,\n",
              " 0.08620149043636606,\n",
              " 0.042938961041563306,\n",
              " 0.1925394080204862,\n",
              " 0.07858871245556907,\n",
              " 0.07104862142545401,\n",
              " 0.010125883161266381,\n",
              " 0.05061258520697559,\n",
              " 0.04221110010885802,\n",
              " 0.15882374282360406,\n",
              " 0.3645517394114684,\n",
              " 0.16907705050867203,\n",
              " 0.11624191620538099,\n",
              " 0.07405657645263261,\n",
              " 0.07026505966850846,\n",
              " 0.10863770426109413,\n",
              " 0.016085949953655775,\n",
              " 0.10870438548636156,\n",
              " 0.054189581477622484,\n",
              " 0.12468883234849863,\n",
              " 0.32547031720508457,\n",
              " 0.021778937702402794,\n",
              " 0.004821692020818049,\n",
              " 0.07000505965928375,\n",
              " 0.07577268187611394,\n",
              " 0.1784628813466563,\n",
              " 0.10118019785478627,\n",
              " 0.062103659184118185,\n",
              " 0.10197013899116376,\n",
              " 0.0768924203584332,\n",
              " 0.07396962116090858,\n",
              " 0.030684071986003786,\n",
              " 0.06366480797145219,\n",
              " 0.09267744449248316,\n",
              " 0.1412184199718709,\n",
              " 0.07286043533489486,\n",
              " 0.09971913003507533,\n",
              " 0.0814487637055527,\n",
              " 0.06367199174584227,\n",
              " 0.10954155208606844,\n",
              " 0.06556898562583086,\n",
              " 0.07370590150103047,\n",
              " 0.07890163662094127,\n",
              " 0.06883442596398834,\n",
              " 0.08288675160145516,\n",
              " 0.22131272455459405,\n",
              " 0.0685927396345189,\n",
              " 0.15216569350956724,\n",
              " 0.03382847863611339,\n",
              " 0.07099301619946333,\n",
              " 0.10880159020429259,\n",
              " 0.0628275033196031,\n",
              " 0.10027803761050783,\n",
              " 0.053616254439601406,\n",
              " 0.29164037617752614,\n",
              " 0.0003349485953715037,\n",
              " 0.05896256918837986,\n",
              " 0.20980821146780732,\n",
              " 0.08414972027210783,\n",
              " 0.08629590720504306,\n",
              " 0.08092718162443428,\n",
              " 0.12479979405268432,\n",
              " 0.18511495756056243,\n",
              " 0.09274967426970378,\n",
              " 0.001315547047493315,\n",
              " 0.11549171616846597,\n",
              " 0.09465456954650243,\n",
              " 0.057704250949748154,\n",
              " 0.030313485601459085,\n",
              " 0.10802202005527962,\n",
              " 0.09702040560597194,\n",
              " 0.013539764011727906,\n",
              " 0.06843691619788767,\n",
              " 0.7929824874817275,\n",
              " 0.07150629122940222,\n",
              " 0.05285393900690999,\n",
              " 0.1250800729184961,\n",
              " 0.16337025191767846,\n",
              " 0.06939043116444303,\n",
              " 0.06427901066784386,\n",
              " 0.07714285721081074,\n",
              " 0.05649001043973577,\n",
              " 0.5950417424914445,\n",
              " 0.09555920148166144,\n",
              " 0.2132548454889991,\n",
              " 0.39104424156121087,\n",
              " 0.16250888284656528,\n",
              " 0.07537406683069885,\n",
              " 0.0505282648093896,\n",
              " 3.7162392859041655,\n",
              " 0.38800458098555135,\n",
              " 0.07354538943241344,\n",
              " 0.059959946652505466,\n",
              " 0.08331790521342615,\n",
              " 0.14770158869081124,\n",
              " 0.09168009114032796,\n",
              " 0.27380992857742414,\n",
              " 0.023091073536203786,\n",
              " 0.1980340856851292,\n",
              " 0.025590798636636325,\n",
              " 0.052043225670437995,\n",
              " 0.38001775631392026,\n",
              " 0.005370371061884572,\n",
              " 0.08600977071311833,\n",
              " 0.10318599846080323,\n",
              " 0.06837405147385947,\n",
              " 0.11129532890257925,\n",
              " 0.08006468004260171,\n",
              " 0.09908725378063872,\n",
              " 0.09119002212586724,\n",
              " 0.04810831940312773,\n",
              " 0.06018269625140149,\n",
              " 0.09054947439890224,\n",
              " 0.28547862176466177,\n",
              " 0.06544751596326558,\n",
              " 0.09330468814995797,\n",
              " 0.03986610304887596,\n",
              " 0.061275551223963345,\n",
              " 0.08880691463743023,\n",
              " 0.018307940244512648,\n",
              " 0.11365848460095622,\n",
              " 0.1365582792380498,\n",
              " 0.09559706474299277,\n",
              " 0.033219798357359734,\n",
              " 0.047830262738493404,\n",
              " 0.11069911585883173,\n",
              " 0.07536411426809278,\n",
              " 0.19418814916329696,\n",
              " 0.05564167189830621,\n",
              " 0.07907970427589536,\n",
              " 0.17585797066424408,\n",
              " 0.08425035371484624,\n",
              " 0.07278221012775152,\n",
              " 0.07112491266609175,\n",
              " 0.06934203645531685,\n",
              " 0.10886745461188493,\n",
              " 0.0678305692599781,\n",
              " 0.04921342665148212,\n",
              " 0.09184924719923172,\n",
              " 0.009167932402510879,\n",
              " 0.07911209745428367,\n",
              " 0.37117159556884183,\n",
              " 0.09540222601972327,\n",
              " 0.1019847453522327,\n",
              " 0.09511619126763415,\n",
              " 0.09079356930076703,\n",
              " 0.0493674919408109,\n",
              " 0.059362710335376795,\n",
              " 0.05431305717414803,\n",
              " 0.09680530602979395,\n",
              " 0.09871096177084877,\n",
              " 0.18661511209083984,\n",
              " 0.09439916334951991,\n",
              " 0.12872153687946095,\n",
              " 1.8131078040024933,\n",
              " 0.01875601748017012,\n",
              " 0.49730959669187225,\n",
              " 0.006368509208984464,\n",
              " 0.12939788781856051,\n",
              " 0.0819397355430059,\n",
              " 0.10474970128949412,\n",
              " 0.06870422020053311,\n",
              " 0.12028087920338551,\n",
              " 0.6530936146930536,\n",
              " 0.20767956503673987,\n",
              " 0.060354932676906586,\n",
              " 0.07565741627130754,\n",
              " 0.09413410711358551,\n",
              " 0.09404606030830732,\n",
              " 0.05388204046328389,\n",
              " 0.12338146897788985,\n",
              " 0.03569755850205611,\n",
              " 0.10246578396498873,\n",
              " 0.15391824747760735,\n",
              " 0.08296874987887276,\n",
              " 0.06707447765933644,\n",
              " 0.10431020284214391,\n",
              " 0.2200500002573284,\n",
              " 0.18326595843261498,\n",
              " 0.17627754942514076,\n",
              " 0.06352452909313867,\n",
              " 0.07908641362474303,\n",
              " 0.13252113272148708,\n",
              " 0.10367309812638106,\n",
              " 0.06760320017722896,\n",
              " 0.027990985905402842,\n",
              " 0.04232153237605509,\n",
              " 0.03242941666938169,\n",
              " 0.07764871628677925,\n",
              " 0.17133095145771507,\n",
              " 0.07583351573962735,\n",
              " 0.08188714471002234,\n",
              " 0.06667275927389604,\n",
              " 0.12383628059139579,\n",
              " 1.9116432823212843,\n",
              " 0.09300345788024651,\n",
              " 0.08984736493568485,\n",
              " 0.08617209843594115,\n",
              " 0.07183861481246395,\n",
              " 0.065386452266242,\n",
              " 0.18780391429415133,\n",
              " 0.3116123271299842,\n",
              " 0.06684811871338713,\n",
              " 0.027588725098090516,\n",
              " 0.09251981049226318,\n",
              " 0.5973317180590497,\n",
              " 0.07134576333240873,\n",
              " 0.03160422297917384,\n",
              " 0.13466969807046159,\n",
              " 0.09426148319504186,\n",
              " 0.20191645094462998,\n",
              " 0.10130148663565218,\n",
              " 0.19118552375634376,\n",
              " 0.1871971129913322,\n",
              " 0.04063735302678703,\n",
              " 0.10239016987807983,\n",
              " 0.07370812293323517,\n",
              " 0.08723368508028045,\n",
              " 0.03470014625908914,\n",
              " 0.024214215309113968,\n",
              " 0.5414909074607985,\n",
              " 0.6248678842859278,\n",
              " 0.11058731000242487,\n",
              " 0.21168421552012628,\n",
              " 0.10513596553909164,\n",
              " 0.05810419536511477,\n",
              " 0.0685927396345189,\n",
              " 0.46691015843341865,\n",
              " 0.06479613166717482,\n",
              " 0.09794423129538127,\n",
              " 0.2605529697476167,\n",
              " 0.10755157622461553,\n",
              " 0.08391478308679959,\n",
              " 0.0923225490487598,\n",
              " 0.07724336538789564,\n",
              " 0.755571090824902,\n",
              " 0.05609527091725123,\n",
              " 0.08427121164615281,\n",
              " 0.1335797256444764,\n",
              " 0.16114882255997043,\n",
              " 0.1433861222177974,\n",
              " 0.04782160070380827,\n",
              " 0.1007430928878928,\n",
              " 0.10944439697120399,\n",
              " 0.1154095936944191,\n",
              " 0.11024534426967313,\n",
              " 0.09459433505654166,\n",
              " 0.0972757873762229,\n",
              " 0.05647906827792479,\n",
              " 0.04400940628621654,\n",
              " 0.0756389184224141,\n",
              " 0.045559332408859635,\n",
              " 0.051853407918328924,\n",
              " 0.0398928673413769,\n",
              " 0.012225603076086009,\n",
              " 0.0690250603397366,\n",
              " 0.19641418402545902,\n",
              " 0.2843812729833966,\n",
              " 0.05937823819065144,\n",
              " 0.13578865465824252,\n",
              " 0.007767950531069767,\n",
              " 0.2549367845513628,\n",
              " 0.06000779703322716,\n",
              " 0.09642713765127325,\n",
              " 0.043137375986752054,\n",
              " 0.10426996309303813,\n",
              " 0.0717715860034104,\n",
              " 0.0395969950844743,\n",
              " 0.07736270802244014,\n",
              " 0.02814239322271389,\n",
              " 0.6647402814484237,\n",
              " 0.09872422110568206,\n",
              " 0.07474509490663418,\n",
              " 0.04445672894311895,\n",
              " 0.1237612018364519,\n",
              " 0.08719493321126684,\n",
              " 0.005225329009604158,\n",
              " 0.10027195702997158,\n",
              " 0.047837219190570546,\n",
              " 0.04668007146086611,\n",
              " 0.1712762113678152,\n",
              " 0.09536823781728394,\n",
              " 0.07663388105929152,\n",
              " 0.4795600912320962,\n",
              " 0.061426917599638364,\n",
              " 0.0545424200117407,\n",
              " 0.6729099993501012,\n",
              " 0.09700485345438276,\n",
              " 0.05810419536511477,\n",
              " 0.07281394690137818,\n",
              " 0.19683524407460232,\n",
              " 0.09872732075854813,\n",
              " 0.04075554189651911,\n",
              " 0.11937036298808186,\n",
              " 0.19638990919300547,\n",
              " 0.10722541680110695,\n",
              " 0.07382914148878414,\n",
              " 0.09870532374383051,\n",
              " 0.053135751162970354,\n",
              " 0.053004414217129196,\n",
              " 0.04521409441824757,\n",
              " 0.009389550301361517,\n",
              " 0.08655093237010414,\n",
              " 0.14537375710103148,\n",
              " 0.07198417269359542,\n",
              " 0.06680670166428195,\n",
              " 0.5175905361016178,\n",
              " 0.07273486755379703,\n",
              " 0.012681344557535994,\n",
              " 0.036079048012227014,\n",
              " 0.06589468986428887,\n",
              " 0.09019226582354857,\n",
              " 0.06856161399750454,\n",
              " 0.15430409471202747,\n",
              " 0.13665017576329466,\n",
              " 0.06236600768109343,\n",
              " 0.4742303506680859,\n",
              " 0.3971416500727031,\n",
              " 0.10578718484317061,\n",
              " 0.15595843239229631,\n",
              " 0.08541798570415735,\n",
              " 0.16148489389396992,\n",
              " 0.13435560220021842,\n",
              " 0.13947780389018494,\n",
              " 0.12280195222778514,\n",
              " 0.5399258263487299,\n",
              " 0.05770010034108054,\n",
              " 0.07830833114619669,\n",
              " 0.07399891488606866,\n",
              " 0.08822541488883745,\n",
              " 0.05593646377182253,\n",
              " 0.08001985186505722,\n",
              " 0.07652097542583422,\n",
              " 0.045542989119161006,\n",
              " 0.15230871536759372,\n",
              " 0.05309759781213086,\n",
              " 0.07142206159480867,\n",
              " 0.11432464953116031,\n",
              " 0.1492790059065002,\n",
              " 0.08827575699197354,\n",
              " 0.14782476019273905,\n",
              " 0.07154973010647725,\n",
              " 0.07617740671646973,\n",
              " 0.08299497510564458,\n",
              " 0.040205145785229,\n",
              " 0.09592824821515389,\n",
              " 0.0941011911585919,\n",
              " 0.20856025250853408,\n",
              " 0.24602177889094562,\n",
              " 0.10916481684152675,\n",
              " 0.025488487180147873,\n",
              " 0.08147267599559052,\n",
              " 0.27100755025909895,\n",
              " 0.05649001043973577,\n",
              " 0.07464378929509947,\n",
              " 0.12069574121892677,\n",
              " 0.1988260034748604,\n",
              " 0.12351821122814202,\n",
              " 0.11480983186408987,\n",
              " 0.005282382691762524,\n",
              " 0.15448178897631018,\n",
              " 0.26117968744733033,\n",
              " 0.05718502002865947,\n",
              " 0.12649972391973377,\n",
              " 0.09494962176268006,\n",
              " 0.10089122007840517,\n",
              " 0.03841828747912661,\n",
              " 0.04792765132951352,\n",
              " 0.07865881470262619,\n",
              " 0.07974328617355635,\n",
              " 0.09418189201130467,\n",
              " 0.08547201849201821,\n",
              " 0.05709198780484451,\n",
              " 0.2014442096500132,\n",
              " 0.08069907999410604,\n",
              " 0.042156621017918144,\n",
              " 0.06108176834473382,\n",
              " 0.085572861483259,\n",
              " 0.15324157727473625,\n",
              " 0.09521936815052057,\n",
              " 0.08892120482309883,\n",
              " 0.09010819308481831,\n",
              " 0.06553440852086158,\n",
              " 0.12558381276857714,\n",
              " 0.1107570261308634,\n",
              " 0.08453563470791939,\n",
              " 0.08331554822074302,\n",
              " 0.06278518383330452,\n",
              " 0.12208425192669248,\n",
              " 0.001982016726146396,\n",
              " 0.06829691605648563,\n",
              " 0.07080534504091168,\n",
              " 0.36661249724692363,\n",
              " 0.05293352829874497,\n",
              " 0.12417216041247436,\n",
              " 0.04521436021786984,\n",
              " 0.06759622908934629,\n",
              " 0.08495235759370347,\n",
              " 0.007466466959703274,\n",
              " 0.051551431498991045,\n",
              " 0.06998881004391024,\n",
              " 0.010519076782344443,\n",
              " 0.1751572696539891,\n",
              " 0.07138376465173966,\n",
              " 0.056359822089218026,\n",
              " 0.059135429200562556,\n",
              " 0.0838171072812898,\n",
              " 0.10553323126205179,\n",
              " 0.07972336780358426,\n",
              " 0.11405857132375052,\n",
              " 0.08309334232072703,\n",
              " 0.12197415183508654,\n",
              " 0.07486942060536307,\n",
              " 0.09019555357219164,\n",
              " 0.12796344055583359,\n",
              " 0.11293263466005642,\n",
              " 0.10025553786554149,\n",
              " 0.07659918099754458,\n",
              " 0.003222669377817511,\n",
              " 0.06316490521183907,\n",
              " 0.06082937918596436,\n",
              " 0.15391824747760735,\n",
              " 0.08929657896637258,\n",
              " 0.03654939955502355,\n",
              " 0.0713387331947293,\n",
              " 0.07030141334745556,\n",
              " 0.23960680621878255,\n",
              " 0.10305279471763294,\n",
              " 0.07618571953113427,\n",
              " 0.0832219325305779,\n",
              " 0.043137375986752054,\n",
              " 0.05856572260714389,\n",
              " 0.042649123952152077,\n",
              " 0.07161704377966041,\n",
              " 0.16617710284557768,\n",
              " 0.10418088948654503,\n",
              " 0.09522115668426553,\n",
              " 0.11200401132688537,\n",
              " 0.045222874714630906,\n",
              " 0.061032036106010656,\n",
              " 0.06909173874692055,\n",
              " 0.2956933768613176,\n",
              " 0.015792847610916306,\n",
              " 0.08469844645614127,\n",
              " 0.12896639606872817,\n",
              " 0.14904084047777721,\n",
              " 0.038803688973619355,\n",
              " 0.09279233373341739,\n",
              " 0.07148536024549294,\n",
              " 0.08829631079738633,\n",
              " 0.11831241379528962,\n",
              " 0.08761256877753464,\n",
              " 0.12480725002235302,\n",
              " 0.13976430921302763,\n",
              " 0.25294278273500526,\n",
              " 0.12286783341078981,\n",
              " 0.1225945033364101,\n",
              " 0.09376949762385357,\n",
              " 0.16313811425812264,\n",
              " 0.17930234624830507,\n",
              " 0.06934658329016306,\n",
              " 0.1588088681146511,\n",
              " 0.08161286286122302,\n",
              " 0.08582525276995887,\n",
              " 0.1125799882595986,\n",
              " 0.10206797061394328,\n",
              " 0.09453413152914623,\n",
              " 0.21893495363633841,\n",
              " 0.13419720173522265,\n",
              " 0.11954429457794893,\n",
              " 0.08652555213255933,\n",
              " 0.012392072212122369,\n",
              " 0.12010949683406469,\n",
              " 0.056129071019851734,\n",
              " 0.13734103633495423,\n",
              " 0.0699317772738751,\n",
              " 0.009229721758024487,\n",
              " 0.1860526463104855,\n",
              " 0.07382914148878414,\n",
              " 0.05610769587560345,\n",
              " 0.06456638022052673,\n",
              " 0.06178187297330143,\n",
              " 0.13535494182707838,\n",
              " 1.5499261142411531,\n",
              " 0.1595828199294611,\n",
              " 0.027589790865188757,\n",
              " 0.05847206566111797,\n",
              " 0.1457252334934187,\n",
              " 0.26518366839502694,\n",
              " 0.19425323199118097,\n",
              " 0.10657778767897431,\n",
              " 0.044281735979189024,\n",
              " 0.9061431035647035,\n",
              " 0.021353965792514085,\n",
              " 0.08658042812626625,\n",
              " 0.08161415594446383,\n",
              " 0.0567432646017058,\n",
              " 0.10150897923764568,\n",
              " 0.11392527797511474,\n",
              " 0.07379019776389051,\n",
              " 0.006372446134343263,\n",
              " 0.051249051933464955,\n",
              " 0.11437948106170089,\n",
              " 0.0982766664406534,\n",
              " 0.0682216392620858,\n",
              " 0.0878059744088047,\n",
              " 0.08640579432246585,\n",
              " 0.10081912632785019,\n",
              " 0.06458478572489684,\n",
              " 0.08012959295267161,\n",
              " 0.07617740671646973,\n",
              " 0.09894087451678604,\n",
              " 0.15890952499872105,\n",
              " 0.04186264131428448,\n",
              " 0.1628689874255495,\n",
              " 0.0059959661150177646,\n",
              " 0.20571968661891124,\n",
              " 0.04176554548289889,\n",
              " 0.0686262045666888,\n",
              " 0.08380857315195442,\n",
              " 0.1887726479559009,\n",
              " 0.05200632709075054,\n",
              " 0.04906297548831132,\n",
              " 0.08020727854755293,\n",
              " 0.08451509396544785,\n",
              " 0.09104487846907602,\n",
              " 0.060395198424797375,\n",
              " 0.0025027911967847316,\n",
              " 0.021353965792514085,\n",
              " 0.0876296595640962,\n",
              " 0.027164616819336185,\n",
              " 0.06766134038888993,\n",
              " 0.0656485759822294,\n",
              " 0.044588066071175075,\n",
              " 0.11355342895940546,\n",
              " 0.050760435042991395,\n",
              " 0.10455299577642896,\n",
              " 0.08930531413106918,\n",
              " 0.05758899026963718,\n",
              " 0.08759466772615088,\n",
              " 0.10236290128663779,\n",
              " 0.058989028652282394,\n",
              " 0.10866298692635987,\n",
              " 0.05577272993249101,\n",
              " 0.08147267599559052,\n",
              " 0.04706728499140825,\n",
              " 0.08592449153072884,\n",
              " 0.6280210972325817,\n",
              " 0.6212191825423677,\n",
              " 0.05826463139680345,\n",
              " 0.1916414112107914,\n",
              " 0.17039388665691677,\n",
              " 0.11032794845529807,\n",
              " 0.09971913003507533,\n",
              " 0.05584245734008282,\n",
              " 0.3955875659179279,\n",
              " 0.14777736974664324,\n",
              " 0.05870051260054007,\n",
              " 0.12307349948719946,\n",
              " 0.05978327514978994,\n",
              " 0.1184816120847959,\n",
              " 0.047217369000989606,\n",
              " 0.222424601108105,\n",
              " 0.1031265884326273,\n",
              " 0.005145890789434615,\n",
              " 0.11717521115230195,\n",
              " 0.2590632813135617,\n",
              " 0.34418229734089517,\n",
              " 0.09997556564527715,\n",
              " 0.05547259248935643,\n",
              " 0.019208686212966466,\n",
              " 0.011329949207841158,\n",
              " 0.09261787307872356,\n",
              " 0.10148396299810893,\n",
              " 0.15922255957211737,\n",
              " 0.0932989990282887,\n",
              " 0.11024534426967313,\n",
              " 0.21198050924855774,\n",
              " 0.15495639430595526,\n",
              " 0.10877880065827304,\n",
              " 0.1936245068785156,\n",
              " 0.0036338328921924202,\n",
              " 0.17923214237290974,\n",
              " 0.08873129731156588,\n",
              " 0.0038559254822126965,\n",
              " 0.053004414217129196,\n",
              " 0.09184924719923172,\n",
              " 0.08885123193872435,\n",
              " 0.05300070164245045,\n",
              " 0.1011963117571116,\n",
              " 0.061262638757950724,\n",
              " 0.10655093440748832,\n",
              " 0.07078551256839416,\n",
              " 0.07523695529386278,\n",
              " 0.026532556271275244,\n",
              " 0.09692207828143587,\n",
              " 0.20707294144747848,\n",
              " 0.008870920295376818,\n",
              " 0.055316812150762534,\n",
              " 0.06670260223648582,\n",
              " 0.3029188154368082,\n",
              " 0.11288960655535572,\n",
              " 0.15071527516786132,\n",
              " 0.06493061166662523,\n",
              " 0.15943337018199275,\n",
              " 0.05716766535465012,\n",
              " 0.18324296960475048,\n",
              " 0.09195793836349422,\n",
              " 0.07153476338391644,\n",
              " 0.6296423194830026,\n",
              " 0.09535687311172392,\n",
              " 0.27887276036565833,\n",
              " 0.11845564130030806,\n",
              " 0.07851755008340743,\n",
              " 0.04400940628621654,\n",
              " 0.076233571532202,\n",
              " 0.007059566666543438,\n",
              " 0.11917884565554908,\n",
              " 0.08064219726948849,\n",
              " 0.40898257745241984,\n",
              " 0.04060424948397061,\n",
              " 0.149255299699276,\n",
              " 0.14031731627221966,\n",
              " 0.07952913179809877,\n",
              " 0.06358109749960446,\n",
              " 0.3477931052140184,\n",
              " 0.007767950531069767,\n",
              " 0.42096979033396076,\n",
              " 0.10229127247248737,\n",
              " 0.8467764851337056,\n",
              " 0.07402362209112567,\n",
              " 0.08722833808309798,\n",
              " 0.07333970153996075,\n",
              " 0.09682777016140134,\n",
              " 0.04765132894822402,\n",
              " 0.08130279780164017,\n",
              " 0.16834755778720298,\n",
              " 0.09424765812939354,\n",
              " 0.07793531107959528,\n",
              " 0.4007716902939954,\n",
              " 0.024680797394238577,\n",
              " 0.08380857315195442,\n",
              " 0.07180136778314508,\n",
              " 0.07588648137545134,\n",
              " 0.14412184066871814,\n",
              " 0.17454346830477843,\n",
              " 0.10398192661159013,\n",
              " 0.053127732085155685,\n",
              " 0.1292656911270249,\n",
              " 0.042156621017918144,\n",
              " 0.1561536440596339,\n",
              " 0.0662090026003976,\n",
              " 0.11262276200746722,\n",
              " 0.1817633374063357,\n",
              " 0.06558220521514396,\n",
              " 0.05439380038830237,\n",
              " 0.06668957201226225,\n",
              " 0.03231087640625878,\n",
              " 0.0407348432980847,\n",
              " 0.10091421469319646,\n",
              " 0.05458221633690702,\n",
              " 0.09450194684741871,\n",
              " 0.47756591108726004,\n",
              " 0.08819264719842539,\n",
              " 0.0627721642151981,\n",
              " 0.09896176986658116,\n",
              " 0.054939790782290054,\n",
              " 0.1563716643019103,\n",
              " 0.07148536024549294,\n",
              " 0.16885122724272147,\n",
              " 0.008869613828460993,\n",
              " 0.0616779698693143,\n",
              " 0.12085387337555542,\n",
              " 0.05372103834693476,\n",
              " 0.12226737757359059,\n",
              " 0.1814194245138996,\n",
              " 0.004121848241023161,\n",
              " 0.1102949767521478,\n",
              " ...]"
            ]
          },
          "metadata": {},
          "execution_count": 21
        }
      ]
    },
    {
      "cell_type": "code",
      "source": [
        "sampled_data['dtw_distances'] = dtw_distances"
      ],
      "metadata": {
        "id": "Kr6u__nrnTAB"
      },
      "execution_count": null,
      "outputs": []
    },
    {
      "cell_type": "code",
      "source": [
        "# Save sampled_data + dtw distances to drive\n",
        "sampled_data.to_csv('/content/drive/My Drive/swat/sampled_data_with_dtw.csv', index=False)\n",
        "sampled_data.to_excel('/content/drive/My Drive/swat/sampled_data_with_dtw.xlsx', index=False)"
      ],
      "metadata": {
        "id": "PKGA1Mv1ngeH"
      },
      "execution_count": null,
      "outputs": []
    },
    {
      "cell_type": "code",
      "source": [
        "sampled_data.head(3)"
      ],
      "metadata": {
        "colab": {
          "base_uri": "https://localhost:8080/",
          "height": 193
        },
        "id": "EBIe19NGnUqb",
        "outputId": "ca56cf3d-b367-42b6-8340-8f60ae28832d"
      },
      "execution_count": null,
      "outputs": [
        {
          "output_type": "execute_result",
          "data": {
            "text/plain": [
              "          FIT101    LIT101    AIT201    AIT202    AIT203    FIT201   DPIT301  \\\n",
              "693046  0.906359  0.432890  0.283962  0.841836  0.152735  0.864228  0.441343   \n",
              "916789  0.000000  0.456637  0.018093  0.900598  0.021079  0.000000  0.040407   \n",
              "292515  0.876537  0.774854  0.972707  0.812241  0.116664  0.000000  0.050010   \n",
              "\n",
              "          FIT301    LIT301    AIT401  ...  MV304_2  P301_2  P302_2  P402_2  \\\n",
              "693046  0.927162  0.670225  0.999677  ...      0.0     0.0     1.0     1.0   \n",
              "916789  0.000000  0.822014  0.999645  ...      0.0     0.0     0.0     1.0   \n",
              "292515  0.000000  0.821339  0.999677  ...      0.0     0.0     0.0     1.0   \n",
              "\n",
              "        P403_2  UV401_2  P501_2  P602_2  Normal/Attack_1  dtw_distances  \n",
              "693046     0.0      1.0     1.0     0.0              0.0       0.076050  \n",
              "916789     0.0      1.0     1.0     0.0              1.0       0.049548  \n",
              "292515     0.0      1.0     1.0     0.0              0.0       0.373474  \n",
              "\n",
              "[3 rows x 53 columns]"
            ],
            "text/html": [
              "\n",
              "  <div id=\"df-2ac84371-216d-463c-8298-59da66d579f8\" class=\"colab-df-container\">\n",
              "    <div>\n",
              "<style scoped>\n",
              "    .dataframe tbody tr th:only-of-type {\n",
              "        vertical-align: middle;\n",
              "    }\n",
              "\n",
              "    .dataframe tbody tr th {\n",
              "        vertical-align: top;\n",
              "    }\n",
              "\n",
              "    .dataframe thead th {\n",
              "        text-align: right;\n",
              "    }\n",
              "</style>\n",
              "<table border=\"1\" class=\"dataframe\">\n",
              "  <thead>\n",
              "    <tr style=\"text-align: right;\">\n",
              "      <th></th>\n",
              "      <th>FIT101</th>\n",
              "      <th>LIT101</th>\n",
              "      <th>AIT201</th>\n",
              "      <th>AIT202</th>\n",
              "      <th>AIT203</th>\n",
              "      <th>FIT201</th>\n",
              "      <th>DPIT301</th>\n",
              "      <th>FIT301</th>\n",
              "      <th>LIT301</th>\n",
              "      <th>AIT401</th>\n",
              "      <th>...</th>\n",
              "      <th>MV304_2</th>\n",
              "      <th>P301_2</th>\n",
              "      <th>P302_2</th>\n",
              "      <th>P402_2</th>\n",
              "      <th>P403_2</th>\n",
              "      <th>UV401_2</th>\n",
              "      <th>P501_2</th>\n",
              "      <th>P602_2</th>\n",
              "      <th>Normal/Attack_1</th>\n",
              "      <th>dtw_distances</th>\n",
              "    </tr>\n",
              "  </thead>\n",
              "  <tbody>\n",
              "    <tr>\n",
              "      <th>693046</th>\n",
              "      <td>0.906359</td>\n",
              "      <td>0.432890</td>\n",
              "      <td>0.283962</td>\n",
              "      <td>0.841836</td>\n",
              "      <td>0.152735</td>\n",
              "      <td>0.864228</td>\n",
              "      <td>0.441343</td>\n",
              "      <td>0.927162</td>\n",
              "      <td>0.670225</td>\n",
              "      <td>0.999677</td>\n",
              "      <td>...</td>\n",
              "      <td>0.0</td>\n",
              "      <td>0.0</td>\n",
              "      <td>1.0</td>\n",
              "      <td>1.0</td>\n",
              "      <td>0.0</td>\n",
              "      <td>1.0</td>\n",
              "      <td>1.0</td>\n",
              "      <td>0.0</td>\n",
              "      <td>0.0</td>\n",
              "      <td>0.076050</td>\n",
              "    </tr>\n",
              "    <tr>\n",
              "      <th>916789</th>\n",
              "      <td>0.000000</td>\n",
              "      <td>0.456637</td>\n",
              "      <td>0.018093</td>\n",
              "      <td>0.900598</td>\n",
              "      <td>0.021079</td>\n",
              "      <td>0.000000</td>\n",
              "      <td>0.040407</td>\n",
              "      <td>0.000000</td>\n",
              "      <td>0.822014</td>\n",
              "      <td>0.999645</td>\n",
              "      <td>...</td>\n",
              "      <td>0.0</td>\n",
              "      <td>0.0</td>\n",
              "      <td>0.0</td>\n",
              "      <td>1.0</td>\n",
              "      <td>0.0</td>\n",
              "      <td>1.0</td>\n",
              "      <td>1.0</td>\n",
              "      <td>0.0</td>\n",
              "      <td>1.0</td>\n",
              "      <td>0.049548</td>\n",
              "    </tr>\n",
              "    <tr>\n",
              "      <th>292515</th>\n",
              "      <td>0.876537</td>\n",
              "      <td>0.774854</td>\n",
              "      <td>0.972707</td>\n",
              "      <td>0.812241</td>\n",
              "      <td>0.116664</td>\n",
              "      <td>0.000000</td>\n",
              "      <td>0.050010</td>\n",
              "      <td>0.000000</td>\n",
              "      <td>0.821339</td>\n",
              "      <td>0.999677</td>\n",
              "      <td>...</td>\n",
              "      <td>0.0</td>\n",
              "      <td>0.0</td>\n",
              "      <td>0.0</td>\n",
              "      <td>1.0</td>\n",
              "      <td>0.0</td>\n",
              "      <td>1.0</td>\n",
              "      <td>1.0</td>\n",
              "      <td>0.0</td>\n",
              "      <td>0.0</td>\n",
              "      <td>0.373474</td>\n",
              "    </tr>\n",
              "  </tbody>\n",
              "</table>\n",
              "<p>3 rows × 53 columns</p>\n",
              "</div>\n",
              "    <div class=\"colab-df-buttons\">\n",
              "\n",
              "  <div class=\"colab-df-container\">\n",
              "    <button class=\"colab-df-convert\" onclick=\"convertToInteractive('df-2ac84371-216d-463c-8298-59da66d579f8')\"\n",
              "            title=\"Convert this dataframe to an interactive table.\"\n",
              "            style=\"display:none;\">\n",
              "\n",
              "  <svg xmlns=\"http://www.w3.org/2000/svg\" height=\"24px\" viewBox=\"0 -960 960 960\">\n",
              "    <path d=\"M120-120v-720h720v720H120Zm60-500h600v-160H180v160Zm220 220h160v-160H400v160Zm0 220h160v-160H400v160ZM180-400h160v-160H180v160Zm440 0h160v-160H620v160ZM180-180h160v-160H180v160Zm440 0h160v-160H620v160Z\"/>\n",
              "  </svg>\n",
              "    </button>\n",
              "\n",
              "  <style>\n",
              "    .colab-df-container {\n",
              "      display:flex;\n",
              "      gap: 12px;\n",
              "    }\n",
              "\n",
              "    .colab-df-convert {\n",
              "      background-color: #E8F0FE;\n",
              "      border: none;\n",
              "      border-radius: 50%;\n",
              "      cursor: pointer;\n",
              "      display: none;\n",
              "      fill: #1967D2;\n",
              "      height: 32px;\n",
              "      padding: 0 0 0 0;\n",
              "      width: 32px;\n",
              "    }\n",
              "\n",
              "    .colab-df-convert:hover {\n",
              "      background-color: #E2EBFA;\n",
              "      box-shadow: 0px 1px 2px rgba(60, 64, 67, 0.3), 0px 1px 3px 1px rgba(60, 64, 67, 0.15);\n",
              "      fill: #174EA6;\n",
              "    }\n",
              "\n",
              "    .colab-df-buttons div {\n",
              "      margin-bottom: 4px;\n",
              "    }\n",
              "\n",
              "    [theme=dark] .colab-df-convert {\n",
              "      background-color: #3B4455;\n",
              "      fill: #D2E3FC;\n",
              "    }\n",
              "\n",
              "    [theme=dark] .colab-df-convert:hover {\n",
              "      background-color: #434B5C;\n",
              "      box-shadow: 0px 1px 3px 1px rgba(0, 0, 0, 0.15);\n",
              "      filter: drop-shadow(0px 1px 2px rgba(0, 0, 0, 0.3));\n",
              "      fill: #FFFFFF;\n",
              "    }\n",
              "  </style>\n",
              "\n",
              "    <script>\n",
              "      const buttonEl =\n",
              "        document.querySelector('#df-2ac84371-216d-463c-8298-59da66d579f8 button.colab-df-convert');\n",
              "      buttonEl.style.display =\n",
              "        google.colab.kernel.accessAllowed ? 'block' : 'none';\n",
              "\n",
              "      async function convertToInteractive(key) {\n",
              "        const element = document.querySelector('#df-2ac84371-216d-463c-8298-59da66d579f8');\n",
              "        const dataTable =\n",
              "          await google.colab.kernel.invokeFunction('convertToInteractive',\n",
              "                                                    [key], {});\n",
              "        if (!dataTable) return;\n",
              "\n",
              "        const docLinkHtml = 'Like what you see? Visit the ' +\n",
              "          '<a target=\"_blank\" href=https://colab.research.google.com/notebooks/data_table.ipynb>data table notebook</a>'\n",
              "          + ' to learn more about interactive tables.';\n",
              "        element.innerHTML = '';\n",
              "        dataTable['output_type'] = 'display_data';\n",
              "        await google.colab.output.renderOutput(dataTable, element);\n",
              "        const docLink = document.createElement('div');\n",
              "        docLink.innerHTML = docLinkHtml;\n",
              "        element.appendChild(docLink);\n",
              "      }\n",
              "    </script>\n",
              "  </div>\n",
              "\n",
              "\n",
              "<div id=\"df-d6f87f7e-cffc-4911-ae47-9fc24c79aa0c\">\n",
              "  <button class=\"colab-df-quickchart\" onclick=\"quickchart('df-d6f87f7e-cffc-4911-ae47-9fc24c79aa0c')\"\n",
              "            title=\"Suggest charts\"\n",
              "            style=\"display:none;\">\n",
              "\n",
              "<svg xmlns=\"http://www.w3.org/2000/svg\" height=\"24px\"viewBox=\"0 0 24 24\"\n",
              "     width=\"24px\">\n",
              "    <g>\n",
              "        <path d=\"M19 3H5c-1.1 0-2 .9-2 2v14c0 1.1.9 2 2 2h14c1.1 0 2-.9 2-2V5c0-1.1-.9-2-2-2zM9 17H7v-7h2v7zm4 0h-2V7h2v10zm4 0h-2v-4h2v4z\"/>\n",
              "    </g>\n",
              "</svg>\n",
              "  </button>\n",
              "\n",
              "<style>\n",
              "  .colab-df-quickchart {\n",
              "      --bg-color: #E8F0FE;\n",
              "      --fill-color: #1967D2;\n",
              "      --hover-bg-color: #E2EBFA;\n",
              "      --hover-fill-color: #174EA6;\n",
              "      --disabled-fill-color: #AAA;\n",
              "      --disabled-bg-color: #DDD;\n",
              "  }\n",
              "\n",
              "  [theme=dark] .colab-df-quickchart {\n",
              "      --bg-color: #3B4455;\n",
              "      --fill-color: #D2E3FC;\n",
              "      --hover-bg-color: #434B5C;\n",
              "      --hover-fill-color: #FFFFFF;\n",
              "      --disabled-bg-color: #3B4455;\n",
              "      --disabled-fill-color: #666;\n",
              "  }\n",
              "\n",
              "  .colab-df-quickchart {\n",
              "    background-color: var(--bg-color);\n",
              "    border: none;\n",
              "    border-radius: 50%;\n",
              "    cursor: pointer;\n",
              "    display: none;\n",
              "    fill: var(--fill-color);\n",
              "    height: 32px;\n",
              "    padding: 0;\n",
              "    width: 32px;\n",
              "  }\n",
              "\n",
              "  .colab-df-quickchart:hover {\n",
              "    background-color: var(--hover-bg-color);\n",
              "    box-shadow: 0 1px 2px rgba(60, 64, 67, 0.3), 0 1px 3px 1px rgba(60, 64, 67, 0.15);\n",
              "    fill: var(--button-hover-fill-color);\n",
              "  }\n",
              "\n",
              "  .colab-df-quickchart-complete:disabled,\n",
              "  .colab-df-quickchart-complete:disabled:hover {\n",
              "    background-color: var(--disabled-bg-color);\n",
              "    fill: var(--disabled-fill-color);\n",
              "    box-shadow: none;\n",
              "  }\n",
              "\n",
              "  .colab-df-spinner {\n",
              "    border: 2px solid var(--fill-color);\n",
              "    border-color: transparent;\n",
              "    border-bottom-color: var(--fill-color);\n",
              "    animation:\n",
              "      spin 1s steps(1) infinite;\n",
              "  }\n",
              "\n",
              "  @keyframes spin {\n",
              "    0% {\n",
              "      border-color: transparent;\n",
              "      border-bottom-color: var(--fill-color);\n",
              "      border-left-color: var(--fill-color);\n",
              "    }\n",
              "    20% {\n",
              "      border-color: transparent;\n",
              "      border-left-color: var(--fill-color);\n",
              "      border-top-color: var(--fill-color);\n",
              "    }\n",
              "    30% {\n",
              "      border-color: transparent;\n",
              "      border-left-color: var(--fill-color);\n",
              "      border-top-color: var(--fill-color);\n",
              "      border-right-color: var(--fill-color);\n",
              "    }\n",
              "    40% {\n",
              "      border-color: transparent;\n",
              "      border-right-color: var(--fill-color);\n",
              "      border-top-color: var(--fill-color);\n",
              "    }\n",
              "    60% {\n",
              "      border-color: transparent;\n",
              "      border-right-color: var(--fill-color);\n",
              "    }\n",
              "    80% {\n",
              "      border-color: transparent;\n",
              "      border-right-color: var(--fill-color);\n",
              "      border-bottom-color: var(--fill-color);\n",
              "    }\n",
              "    90% {\n",
              "      border-color: transparent;\n",
              "      border-bottom-color: var(--fill-color);\n",
              "    }\n",
              "  }\n",
              "</style>\n",
              "\n",
              "  <script>\n",
              "    async function quickchart(key) {\n",
              "      const quickchartButtonEl =\n",
              "        document.querySelector('#' + key + ' button');\n",
              "      quickchartButtonEl.disabled = true;  // To prevent multiple clicks.\n",
              "      quickchartButtonEl.classList.add('colab-df-spinner');\n",
              "      try {\n",
              "        const charts = await google.colab.kernel.invokeFunction(\n",
              "            'suggestCharts', [key], {});\n",
              "      } catch (error) {\n",
              "        console.error('Error during call to suggestCharts:', error);\n",
              "      }\n",
              "      quickchartButtonEl.classList.remove('colab-df-spinner');\n",
              "      quickchartButtonEl.classList.add('colab-df-quickchart-complete');\n",
              "    }\n",
              "    (() => {\n",
              "      let quickchartButtonEl =\n",
              "        document.querySelector('#df-d6f87f7e-cffc-4911-ae47-9fc24c79aa0c button');\n",
              "      quickchartButtonEl.style.display =\n",
              "        google.colab.kernel.accessAllowed ? 'block' : 'none';\n",
              "    })();\n",
              "  </script>\n",
              "</div>\n",
              "    </div>\n",
              "  </div>\n"
            ]
          },
          "metadata": {},
          "execution_count": 26
        }
      ]
    },
    {
      "cell_type": "markdown",
      "source": [
        "#**Isolation Forest using Sampled Data without DTW:**"
      ],
      "metadata": {
        "id": "MvHp9cwtoMJn"
      }
    },
    {
      "cell_type": "code",
      "source": [
        "# Load sampled_data + dtw distances from drive\n",
        "sampled_data = pd.read_csv('/content/drive/My Drive/swat/sampled_data_with_dtw.csv')"
      ],
      "metadata": {
        "id": "3ToSMMmZ5PWX"
      },
      "execution_count": 7,
      "outputs": []
    },
    {
      "cell_type": "code",
      "source": [
        "#uncomment this to remove DTW distance\n",
        "X_sampled = sampled_data.drop(columns=['Normal/Attack_1', 'dtw_distances']) #removing dtw distance feature\n",
        "y_sampled = sampled_data['Normal/Attack_1']\n",
        "\n",
        "X_train_s, X_test_s, y_train_s, y_test_s = train_test_split(X_sampled, y_sampled, test_size=0.2, random_state=42)"
      ],
      "metadata": {
        "id": "-YVtLEAXp_br"
      },
      "execution_count": 32,
      "outputs": []
    },
    {
      "cell_type": "code",
      "source": [
        "#uncomment this to use DTW distance\n",
        "X_sampled = sampled_data.drop(columns=['Normal/Attack_1'])\n",
        "y_sampled = sampled_data['Normal/Attack_1']\n",
        "\n",
        "X_train_s, X_test_s, y_train_s, y_test_s = train_test_split(X_sampled, y_sampled, test_size=0.2, random_state=42)"
      ],
      "metadata": {
        "id": "mJWkqVdE4I4v"
      },
      "execution_count": 54,
      "outputs": []
    },
    {
      "cell_type": "code",
      "source": [
        "iso_model = IsolationForest(n_estimators=100, max_samples='auto', contamination=float(.01),\n",
        "                             max_features=1.0, bootstrap=False, n_jobs=-1, random_state=42, verbose=0)\n",
        "iso_model.fit(X_train_s)"
      ],
      "metadata": {
        "colab": {
          "base_uri": "https://localhost:8080/",
          "height": 74
        },
        "id": "-Nis6QMXoLYU",
        "outputId": "322cf1b7-a74a-49ee-fe66-6b26a677a638"
      },
      "execution_count": null,
      "outputs": [
        {
          "output_type": "execute_result",
          "data": {
            "text/plain": [
              "IsolationForest(contamination=0.01, n_jobs=-1, random_state=42)"
            ],
            "text/html": [
              "<style>#sk-container-id-6 {color: black;background-color: white;}#sk-container-id-6 pre{padding: 0;}#sk-container-id-6 div.sk-toggleable {background-color: white;}#sk-container-id-6 label.sk-toggleable__label {cursor: pointer;display: block;width: 100%;margin-bottom: 0;padding: 0.3em;box-sizing: border-box;text-align: center;}#sk-container-id-6 label.sk-toggleable__label-arrow:before {content: \"▸\";float: left;margin-right: 0.25em;color: #696969;}#sk-container-id-6 label.sk-toggleable__label-arrow:hover:before {color: black;}#sk-container-id-6 div.sk-estimator:hover label.sk-toggleable__label-arrow:before {color: black;}#sk-container-id-6 div.sk-toggleable__content {max-height: 0;max-width: 0;overflow: hidden;text-align: left;background-color: #f0f8ff;}#sk-container-id-6 div.sk-toggleable__content pre {margin: 0.2em;color: black;border-radius: 0.25em;background-color: #f0f8ff;}#sk-container-id-6 input.sk-toggleable__control:checked~div.sk-toggleable__content {max-height: 200px;max-width: 100%;overflow: auto;}#sk-container-id-6 input.sk-toggleable__control:checked~label.sk-toggleable__label-arrow:before {content: \"▾\";}#sk-container-id-6 div.sk-estimator input.sk-toggleable__control:checked~label.sk-toggleable__label {background-color: #d4ebff;}#sk-container-id-6 div.sk-label input.sk-toggleable__control:checked~label.sk-toggleable__label {background-color: #d4ebff;}#sk-container-id-6 input.sk-hidden--visually {border: 0;clip: rect(1px 1px 1px 1px);clip: rect(1px, 1px, 1px, 1px);height: 1px;margin: -1px;overflow: hidden;padding: 0;position: absolute;width: 1px;}#sk-container-id-6 div.sk-estimator {font-family: monospace;background-color: #f0f8ff;border: 1px dotted black;border-radius: 0.25em;box-sizing: border-box;margin-bottom: 0.5em;}#sk-container-id-6 div.sk-estimator:hover {background-color: #d4ebff;}#sk-container-id-6 div.sk-parallel-item::after {content: \"\";width: 100%;border-bottom: 1px solid gray;flex-grow: 1;}#sk-container-id-6 div.sk-label:hover label.sk-toggleable__label {background-color: #d4ebff;}#sk-container-id-6 div.sk-serial::before {content: \"\";position: absolute;border-left: 1px solid gray;box-sizing: border-box;top: 0;bottom: 0;left: 50%;z-index: 0;}#sk-container-id-6 div.sk-serial {display: flex;flex-direction: column;align-items: center;background-color: white;padding-right: 0.2em;padding-left: 0.2em;position: relative;}#sk-container-id-6 div.sk-item {position: relative;z-index: 1;}#sk-container-id-6 div.sk-parallel {display: flex;align-items: stretch;justify-content: center;background-color: white;position: relative;}#sk-container-id-6 div.sk-item::before, #sk-container-id-6 div.sk-parallel-item::before {content: \"\";position: absolute;border-left: 1px solid gray;box-sizing: border-box;top: 0;bottom: 0;left: 50%;z-index: -1;}#sk-container-id-6 div.sk-parallel-item {display: flex;flex-direction: column;z-index: 1;position: relative;background-color: white;}#sk-container-id-6 div.sk-parallel-item:first-child::after {align-self: flex-end;width: 50%;}#sk-container-id-6 div.sk-parallel-item:last-child::after {align-self: flex-start;width: 50%;}#sk-container-id-6 div.sk-parallel-item:only-child::after {width: 0;}#sk-container-id-6 div.sk-dashed-wrapped {border: 1px dashed gray;margin: 0 0.4em 0.5em 0.4em;box-sizing: border-box;padding-bottom: 0.4em;background-color: white;}#sk-container-id-6 div.sk-label label {font-family: monospace;font-weight: bold;display: inline-block;line-height: 1.2em;}#sk-container-id-6 div.sk-label-container {text-align: center;}#sk-container-id-6 div.sk-container {/* jupyter's `normalize.less` sets `[hidden] { display: none; }` but bootstrap.min.css set `[hidden] { display: none !important; }` so we also need the `!important` here to be able to override the default hidden behavior on the sphinx rendered scikit-learn.org. See: https://github.com/scikit-learn/scikit-learn/issues/21755 */display: inline-block !important;position: relative;}#sk-container-id-6 div.sk-text-repr-fallback {display: none;}</style><div id=\"sk-container-id-6\" class=\"sk-top-container\"><div class=\"sk-text-repr-fallback\"><pre>IsolationForest(contamination=0.01, n_jobs=-1, random_state=42)</pre><b>In a Jupyter environment, please rerun this cell to show the HTML representation or trust the notebook. <br />On GitHub, the HTML representation is unable to render, please try loading this page with nbviewer.org.</b></div><div class=\"sk-container\" hidden><div class=\"sk-item\"><div class=\"sk-estimator sk-toggleable\"><input class=\"sk-toggleable__control sk-hidden--visually\" id=\"sk-estimator-id-6\" type=\"checkbox\" checked><label for=\"sk-estimator-id-6\" class=\"sk-toggleable__label sk-toggleable__label-arrow\">IsolationForest</label><div class=\"sk-toggleable__content\"><pre>IsolationForest(contamination=0.01, n_jobs=-1, random_state=42)</pre></div></div></div></div></div>"
            ]
          },
          "metadata": {},
          "execution_count": 59
        }
      ]
    },
    {
      "cell_type": "code",
      "source": [
        "iso_predictions = iso_model.predict(X_test_s)\n",
        "\n",
        "iso_binary_predictions = [1 if pred == -1 else 0 for pred in iso_predictions]\n",
        "\n",
        "iso_true_labels = y_test_s\n",
        "iso_predicted_labels = iso_binary_predictions"
      ],
      "metadata": {
        "id": "kHUSmpfbol7B"
      },
      "execution_count": null,
      "outputs": []
    },
    {
      "cell_type": "markdown",
      "source": [
        "##without DTW"
      ],
      "metadata": {
        "id": "JL5ZLBQ1udn4"
      }
    },
    {
      "cell_type": "code",
      "source": [
        "accuracy = accuracy_score(iso_true_labels, iso_predicted_labels)\n",
        "confusion = confusion_matrix(iso_true_labels, iso_predicted_labels)\n",
        "precision = precision_score(iso_true_labels, iso_predicted_labels)\n",
        "recall = recall_score(iso_true_labels, iso_predicted_labels)\n",
        "f1 = f1_score(iso_true_labels, iso_predicted_labels)\n",
        "\n",
        "print(\"Accuracy:\", accuracy)\n",
        "print(\"Confusion Matrix:\")\n",
        "print(confusion)\n",
        "print(\"Precision:\", precision)\n",
        "print(\"Recall:\", recall)\n",
        "print(\"F1 Score:\", f1)\n",
        "print(\"Classification Report:\")\n",
        "print(classification_report(iso_true_labels, iso_predicted_labels))"
      ],
      "metadata": {
        "colab": {
          "base_uri": "https://localhost:8080/"
        },
        "id": "3AhgxEDsoo9x",
        "outputId": "3c7b52d5-8f71-47f3-e89d-c41de61ca12b"
      },
      "execution_count": null,
      "outputs": [
        {
          "output_type": "stream",
          "name": "stdout",
          "text": [
            "Accuracy: 0.924\n",
            "Confusion Matrix:\n",
            "[[922   6]\n",
            " [ 70   2]]\n",
            "Precision: 0.25\n",
            "Recall: 0.027777777777777776\n",
            "F1 Score: 0.049999999999999996\n",
            "Classification Report:\n",
            "              precision    recall  f1-score   support\n",
            "\n",
            "         0.0       0.93      0.99      0.96       928\n",
            "         1.0       0.25      0.03      0.05        72\n",
            "\n",
            "    accuracy                           0.92      1000\n",
            "   macro avg       0.59      0.51      0.51      1000\n",
            "weighted avg       0.88      0.92      0.89      1000\n",
            "\n"
          ]
        }
      ]
    },
    {
      "cell_type": "markdown",
      "source": [
        "##Using DTW"
      ],
      "metadata": {
        "id": "WmFfPfIjuqDh"
      }
    },
    {
      "cell_type": "code",
      "source": [
        "#First ==> run isolation forest again by adding the dtw distance\n",
        "accuracy = accuracy_score(iso_true_labels, iso_predicted_labels)\n",
        "confusion = confusion_matrix(iso_true_labels, iso_predicted_labels)\n",
        "\n",
        "precision = precision_score(iso_true_labels, iso_predicted_labels)\n",
        "recall = recall_score(iso_true_labels, iso_predicted_labels)\n",
        "f1 = f1_score(iso_true_labels, iso_predicted_labels)\n",
        "\n",
        "print(\"Accuracy:\", accuracy)\n",
        "print(\"Confusion Matrix:\")\n",
        "print(confusion)\n",
        "print(\"Precision:\", precision)\n",
        "print(\"Recall:\", recall)\n",
        "print(\"F1 Score:\", f1)\n",
        "print(\"Classification Report:\")\n",
        "print(classification_report(iso_true_labels, iso_predicted_labels))"
      ],
      "metadata": {
        "colab": {
          "base_uri": "https://localhost:8080/"
        },
        "id": "ZpVGC6WFuplf",
        "outputId": "2de32aa2-d736-448f-c628-fb01fe944501"
      },
      "execution_count": null,
      "outputs": [
        {
          "output_type": "stream",
          "name": "stdout",
          "text": [
            "Accuracy: 0.927\n",
            "Confusion Matrix:\n",
            "[[923   5]\n",
            " [ 68   4]]\n",
            "Precision: 0.4444444444444444\n",
            "Recall: 0.05555555555555555\n",
            "F1 Score: 0.09876543209876543\n",
            "Classification Report:\n",
            "              precision    recall  f1-score   support\n",
            "\n",
            "         0.0       0.93      0.99      0.96       928\n",
            "         1.0       0.44      0.06      0.10        72\n",
            "\n",
            "    accuracy                           0.93      1000\n",
            "   macro avg       0.69      0.53      0.53      1000\n",
            "weighted avg       0.90      0.93      0.90      1000\n",
            "\n"
          ]
        }
      ]
    },
    {
      "cell_type": "markdown",
      "source": [
        "#Autoencoder using Sampled data"
      ],
      "metadata": {
        "id": "9UxoGGetbDGL"
      }
    },
    {
      "cell_type": "code",
      "source": [
        "input_shape = X_train_s.shape[1]\n",
        "input_data = Input(shape=(input_shape,))\n",
        "encoded = Dense(32, activation=\"relu\")(input_data)\n",
        "encoded = BatchNormalization()(encoded)\n",
        "encoded = Dropout(0.5)(encoded)\n",
        "\n",
        "# Decoding layer\n",
        "decoded = Dense(input_shape, activation='sigmoid')(encoded)\n",
        "\n",
        "autoencoder = Model(input_data, decoded)\n",
        "\n",
        "autoencoder.compile(optimizer='adam', loss='mean_squared_error')\n",
        "autoencoder.summary()\n",
        "\n",
        "early_stopping = EarlyStopping(monitor='val_loss',patience=5,restore_best_weights=True)\n",
        "\n",
        "autoencoder_train=autoencoder.fit(X_train_s, X_train_s,\n",
        "                epochs=100,\n",
        "                batch_size=256,\n",
        "                shuffle=True,\n",
        "                validation_data=(X_test_s, X_test_s),callbacks=[early_stopping],verbose=1)\n",
        "\n",
        "y_pred = autoencoder.predict(X_test_s)\n",
        "mse = np.mean(np.power(X_test_s - y_pred, 2), axis=1)\n",
        "y_predictions = y_pred[:, 0]"
      ],
      "metadata": {
        "colab": {
          "base_uri": "https://localhost:8080/"
        },
        "id": "0BNQCav0a_3D",
        "outputId": "30abfd11-b124-4a98-c0c1-e4dc2be21fac"
      },
      "execution_count": 55,
      "outputs": [
        {
          "output_type": "stream",
          "name": "stdout",
          "text": [
            "Model: \"model_4\"\n",
            "_________________________________________________________________\n",
            " Layer (type)                Output Shape              Param #   \n",
            "=================================================================\n",
            " input_5 (InputLayer)        [(None, 52)]              0         \n",
            "                                                                 \n",
            " dense_8 (Dense)             (None, 32)                1696      \n",
            "                                                                 \n",
            " batch_normalization_4 (Bat  (None, 32)                128       \n",
            " chNormalization)                                                \n",
            "                                                                 \n",
            " dropout_4 (Dropout)         (None, 32)                0         \n",
            "                                                                 \n",
            " dense_9 (Dense)             (None, 52)                1716      \n",
            "                                                                 \n",
            "=================================================================\n",
            "Total params: 3540 (13.83 KB)\n",
            "Trainable params: 3476 (13.58 KB)\n",
            "Non-trainable params: 64 (256.00 Byte)\n",
            "_________________________________________________________________\n",
            "Epoch 1/100\n",
            "16/16 [==============================] - 1s 17ms/step - loss: 0.2224 - val_loss: 0.1939\n",
            "Epoch 2/100\n",
            "16/16 [==============================] - 0s 5ms/step - loss: 0.1955 - val_loss: 0.1711\n",
            "Epoch 3/100\n",
            "16/16 [==============================] - 0s 6ms/step - loss: 0.1754 - val_loss: 0.1484\n",
            "Epoch 4/100\n",
            "16/16 [==============================] - 0s 6ms/step - loss: 0.1574 - val_loss: 0.1250\n",
            "Epoch 5/100\n",
            "16/16 [==============================] - 0s 6ms/step - loss: 0.1409 - val_loss: 0.1038\n",
            "Epoch 6/100\n",
            "16/16 [==============================] - 0s 6ms/step - loss: 0.1230 - val_loss: 0.0868\n",
            "Epoch 7/100\n",
            "16/16 [==============================] - 0s 6ms/step - loss: 0.1086 - val_loss: 0.0744\n",
            "Epoch 8/100\n",
            "16/16 [==============================] - 0s 5ms/step - loss: 0.0934 - val_loss: 0.0661\n",
            "Epoch 9/100\n",
            "16/16 [==============================] - 0s 6ms/step - loss: 0.0815 - val_loss: 0.0601\n",
            "Epoch 10/100\n",
            "16/16 [==============================] - 0s 5ms/step - loss: 0.0716 - val_loss: 0.0559\n",
            "Epoch 11/100\n",
            "16/16 [==============================] - 0s 7ms/step - loss: 0.0642 - val_loss: 0.0517\n",
            "Epoch 12/100\n",
            "16/16 [==============================] - 0s 5ms/step - loss: 0.0580 - val_loss: 0.0479\n",
            "Epoch 13/100\n",
            "16/16 [==============================] - 0s 5ms/step - loss: 0.0535 - val_loss: 0.0443\n",
            "Epoch 14/100\n",
            "16/16 [==============================] - 0s 5ms/step - loss: 0.0495 - val_loss: 0.0409\n",
            "Epoch 15/100\n",
            "16/16 [==============================] - 0s 5ms/step - loss: 0.0458 - val_loss: 0.0380\n",
            "Epoch 16/100\n",
            "16/16 [==============================] - 0s 6ms/step - loss: 0.0436 - val_loss: 0.0356\n",
            "Epoch 17/100\n",
            "16/16 [==============================] - 0s 4ms/step - loss: 0.0421 - val_loss: 0.0338\n",
            "Epoch 18/100\n",
            "16/16 [==============================] - 0s 5ms/step - loss: 0.0393 - val_loss: 0.0320\n",
            "Epoch 19/100\n",
            "16/16 [==============================] - 0s 5ms/step - loss: 0.0389 - val_loss: 0.0301\n",
            "Epoch 20/100\n",
            "16/16 [==============================] - 0s 5ms/step - loss: 0.0365 - val_loss: 0.0292\n",
            "Epoch 21/100\n",
            "16/16 [==============================] - 0s 6ms/step - loss: 0.0357 - val_loss: 0.0284\n",
            "Epoch 22/100\n",
            "16/16 [==============================] - 0s 6ms/step - loss: 0.0346 - val_loss: 0.0275\n",
            "Epoch 23/100\n",
            "16/16 [==============================] - 0s 6ms/step - loss: 0.0336 - val_loss: 0.0273\n",
            "Epoch 24/100\n",
            "16/16 [==============================] - 0s 5ms/step - loss: 0.0327 - val_loss: 0.0265\n",
            "Epoch 25/100\n",
            "16/16 [==============================] - 0s 5ms/step - loss: 0.0319 - val_loss: 0.0261\n",
            "Epoch 26/100\n",
            "16/16 [==============================] - 0s 5ms/step - loss: 0.0308 - val_loss: 0.0256\n",
            "Epoch 27/100\n",
            "16/16 [==============================] - 0s 5ms/step - loss: 0.0308 - val_loss: 0.0257\n",
            "Epoch 28/100\n",
            "16/16 [==============================] - 0s 5ms/step - loss: 0.0297 - val_loss: 0.0253\n",
            "Epoch 29/100\n",
            "16/16 [==============================] - 0s 5ms/step - loss: 0.0293 - val_loss: 0.0248\n",
            "Epoch 30/100\n",
            "16/16 [==============================] - 0s 5ms/step - loss: 0.0290 - val_loss: 0.0244\n",
            "Epoch 31/100\n",
            "16/16 [==============================] - 0s 5ms/step - loss: 0.0280 - val_loss: 0.0245\n",
            "Epoch 32/100\n",
            "16/16 [==============================] - 0s 6ms/step - loss: 0.0279 - val_loss: 0.0231\n",
            "Epoch 33/100\n",
            "16/16 [==============================] - 0s 6ms/step - loss: 0.0270 - val_loss: 0.0222\n",
            "Epoch 34/100\n",
            "16/16 [==============================] - 0s 6ms/step - loss: 0.0267 - val_loss: 0.0223\n",
            "Epoch 35/100\n",
            "16/16 [==============================] - 0s 5ms/step - loss: 0.0264 - val_loss: 0.0221\n",
            "Epoch 36/100\n",
            "16/16 [==============================] - 0s 5ms/step - loss: 0.0259 - val_loss: 0.0211\n",
            "Epoch 37/100\n",
            "16/16 [==============================] - 0s 5ms/step - loss: 0.0255 - val_loss: 0.0207\n",
            "Epoch 38/100\n",
            "16/16 [==============================] - 0s 6ms/step - loss: 0.0253 - val_loss: 0.0211\n",
            "Epoch 39/100\n",
            "16/16 [==============================] - 0s 6ms/step - loss: 0.0250 - val_loss: 0.0224\n",
            "Epoch 40/100\n",
            "16/16 [==============================] - 0s 7ms/step - loss: 0.0241 - val_loss: 0.0216\n",
            "Epoch 41/100\n",
            "16/16 [==============================] - 0s 8ms/step - loss: 0.0240 - val_loss: 0.0234\n",
            "Epoch 42/100\n",
            "16/16 [==============================] - 0s 7ms/step - loss: 0.0234 - val_loss: 0.0238\n",
            "32/32 [==============================] - 0s 2ms/step\n"
          ]
        }
      ]
    },
    {
      "cell_type": "code",
      "source": [
        "threshold = np.percentile(mse, 95.5)\n",
        "\n",
        "y_pred = (mse > threshold).astype(int)\n",
        "\n",
        "accuracy = accuracy_score(y_test_s, y_pred)\n",
        "conf_matrix = confusion_matrix(y_test_s, y_pred)\n",
        "precision = precision_score(y_test_s, y_pred)\n",
        "recall = recall_score(y_test_s, y_pred)\n",
        "f1 = f1_score(y_test_s, y_pred)\n",
        "\n",
        "print(f\"Accuracy: {accuracy}\")\n",
        "print(\"Confusion Matrix:\")\n",
        "print(conf_matrix)\n",
        "print(f\"Precision: {precision}\")\n",
        "print(f\"Recall: {recall}\")\n",
        "print(f\"F1-score: {f1}\")\n",
        "print(\"Classification Report:\")\n",
        "print(classification_report(y_test_s, y_pred))"
      ],
      "metadata": {
        "colab": {
          "base_uri": "https://localhost:8080/"
        },
        "id": "Pp8TOOG0ElVw",
        "outputId": "7082015f-1020-410f-faca-b10bfa7543cb"
      },
      "execution_count": 53,
      "outputs": [
        {
          "output_type": "stream",
          "name": "stdout",
          "text": [
            "Accuracy: 0.903\n",
            "Confusion Matrix:\n",
            "[[893  35]\n",
            " [ 62  10]]\n",
            "Precision: 0.2222222222222222\n",
            "Recall: 0.1388888888888889\n",
            "F1-score: 0.17094017094017094\n",
            "Classification Report:\n",
            "              precision    recall  f1-score   support\n",
            "\n",
            "         0.0       0.94      0.96      0.95       928\n",
            "         1.0       0.22      0.14      0.17        72\n",
            "\n",
            "    accuracy                           0.90      1000\n",
            "   macro avg       0.58      0.55      0.56      1000\n",
            "weighted avg       0.88      0.90      0.89      1000\n",
            "\n"
          ]
        }
      ]
    },
    {
      "cell_type": "markdown",
      "source": [
        "###AutoEncoder using DTW"
      ],
      "metadata": {
        "id": "0sD_FT4XFnU3"
      }
    },
    {
      "cell_type": "code",
      "source": [
        "#First ==> run Autoencoder again after adding the dtw distance\n",
        "threshold = np.percentile(mse, 95.5)\n",
        "y_pred = (mse > threshold).astype(int)\n",
        "\n",
        "accuracy = accuracy_score(y_test_s, y_pred)\n",
        "conf_matrix = confusion_matrix(y_test_s, y_pred)\n",
        "precision = precision_score(y_test_s, y_pred)\n",
        "recall = recall_score(y_test_s, y_pred)\n",
        "f1 = f1_score(y_test_s, y_pred)\n",
        "\n",
        "print(f\"Accuracy: {accuracy}\")\n",
        "print(\"Confusion Matrix:\")\n",
        "print(conf_matrix)\n",
        "print(f\"Precision: {precision}\")\n",
        "print(f\"Recall: {recall}\")\n",
        "print(f\"F1-score: {f1}\")\n",
        "print(\"Classification Report:\")\n",
        "print(classification_report(y_test_s, y_pred))"
      ],
      "metadata": {
        "colab": {
          "base_uri": "https://localhost:8080/"
        },
        "id": "Hmh2V7HBG8rA",
        "outputId": "0542dd8a-fac4-4639-c4cb-f81d1dfeba86"
      },
      "execution_count": 78,
      "outputs": [
        {
          "output_type": "stream",
          "name": "stdout",
          "text": [
            "Accuracy: 0.963\n",
            "Confusion Matrix:\n",
            "[[923   5]\n",
            " [ 32  40]]\n",
            "Precision: 0.8888888888888888\n",
            "Recall: 0.5555555555555556\n",
            "F1-score: 0.6837606837606838\n",
            "Classification Report:\n",
            "              precision    recall  f1-score   support\n",
            "\n",
            "         0.0       0.97      0.99      0.98       928\n",
            "         1.0       0.89      0.56      0.68        72\n",
            "\n",
            "    accuracy                           0.96      1000\n",
            "   macro avg       0.93      0.78      0.83      1000\n",
            "weighted avg       0.96      0.96      0.96      1000\n",
            "\n"
          ]
        }
      ]
    },
    {
      "cell_type": "markdown",
      "source": [
        "#**BASELINES : AutoEncoder and Isolation forest** (Using all the data)"
      ],
      "metadata": {
        "id": "zbhn0uSbZ9gx"
      }
    },
    {
      "cell_type": "markdown",
      "source": [
        "###Split :Train/Test"
      ],
      "metadata": {
        "id": "KEAWCJ5lSqNs"
      }
    },
    {
      "cell_type": "code",
      "source": [
        "input_shape = df_train.shape[1]"
      ],
      "metadata": {
        "colab": {
          "base_uri": "https://localhost:8080/"
        },
        "id": "J0RkCQSdmCbr",
        "outputId": "075a2f14-c7ba-4e11-fe85-985c7186ea8f"
      },
      "execution_count": 26,
      "outputs": [
        {
          "output_type": "execute_result",
          "data": {
            "text/plain": [
              "705962"
            ]
          },
          "metadata": {},
          "execution_count": 26
        }
      ]
    },
    {
      "cell_type": "code",
      "source": [
        "X_train, X_test, y_train, y_test = train_test_split(X, y, test_size=0.2, random_state=42)\n",
        "print(\"Training data shape:\", X_train.shape)\n",
        "print(\"Test data shape:\", X_test.shape)"
      ],
      "metadata": {
        "id": "O3wVTXm8Oh8t",
        "colab": {
          "base_uri": "https://localhost:8080/"
        },
        "outputId": "c4af9439-7b6a-4734-a423-c127ce8834d6"
      },
      "execution_count": 27,
      "outputs": [
        {
          "output_type": "stream",
          "name": "stdout",
          "text": [
            "Training data shape: (743118, 45)\n",
            "Test data shape: (185780, 45)\n"
          ]
        }
      ]
    },
    {
      "cell_type": "code",
      "source": [
        "X_train.shape"
      ],
      "metadata": {
        "colab": {
          "base_uri": "https://localhost:8080/"
        },
        "id": "wFBlVcQ9kwIJ",
        "outputId": "9a5f29c3-ef38-47ae-ba77-be6068a819e5"
      },
      "execution_count": 28,
      "outputs": [
        {
          "output_type": "execute_result",
          "data": {
            "text/plain": [
              "(743118, 45)"
            ]
          },
          "metadata": {},
          "execution_count": 28
        }
      ]
    },
    {
      "cell_type": "code",
      "source": [
        "X_test.shape"
      ],
      "metadata": {
        "colab": {
          "base_uri": "https://localhost:8080/"
        },
        "id": "HHiK-LEsk2tF",
        "outputId": "bdc93f50-5048-4758-9b93-65ec7853be3e"
      },
      "execution_count": 29,
      "outputs": [
        {
          "output_type": "execute_result",
          "data": {
            "text/plain": [
              "(185780, 45)"
            ]
          },
          "metadata": {},
          "execution_count": 29
        }
      ]
    },
    {
      "cell_type": "code",
      "source": [
        "df_train = X.iloc[:700000, :]\n",
        "df_test = X.iloc[700000:, :]\n",
        "target_train = y.iloc[:700000]\n",
        "target_test = y.iloc[700000:]\n",
        "\n",
        "print(\"Training data shape:\", df_train.shape)\n",
        "print(\"Test data shape:\", df_test.shape)"
      ],
      "metadata": {
        "colab": {
          "base_uri": "https://localhost:8080/"
        },
        "id": "8P97S6lxD-pK",
        "outputId": "2781745f-a637-47b6-f097-1974cb7c274c"
      },
      "execution_count": 30,
      "outputs": [
        {
          "output_type": "stream",
          "name": "stdout",
          "text": [
            "Training data shape: (700000, 45)\n",
            "Test data shape: (228898, 45)\n"
          ]
        }
      ]
    },
    {
      "cell_type": "markdown",
      "source": [
        "##**Baseline 1 : Autoencoder** (With All Data)"
      ],
      "metadata": {
        "id": "V9hs-U6a6o2-"
      }
    },
    {
      "cell_type": "code",
      "source": [
        "input_shape = df_train.shape[1]"
      ],
      "metadata": {
        "id": "U_7zqAmn6l1t"
      },
      "execution_count": null,
      "outputs": []
    },
    {
      "cell_type": "code",
      "source": [
        "# Define the encoding layer\n",
        "input_data = Input(shape=(input_shape,))\n",
        "encoded = Dense(32, activation=\"relu\")(input_data)\n",
        "encoded = BatchNormalization()(encoded)\n",
        "encoded = Dropout(0.5)(encoded)\n",
        "\n",
        "# Decoding layer\n",
        "decoded = Dense(input_shape, activation='sigmoid')(encoded)\n",
        "\n",
        "autoencoder = Model(input_data, decoded)"
      ],
      "metadata": {
        "id": "J5DIli1lPPPk"
      },
      "execution_count": null,
      "outputs": []
    },
    {
      "cell_type": "code",
      "source": [
        "autoencoder.compile(optimizer='adam', loss='mean_squared_error')"
      ],
      "metadata": {
        "id": "3ArDEJ3d9lrE"
      },
      "execution_count": null,
      "outputs": []
    },
    {
      "cell_type": "code",
      "source": [
        "autoencoder.summary()"
      ],
      "metadata": {
        "colab": {
          "base_uri": "https://localhost:8080/"
        },
        "id": "1pZATiIhif54",
        "outputId": "24def066-aee3-408f-d9ae-aa8d661bf156"
      },
      "execution_count": null,
      "outputs": [
        {
          "output_type": "stream",
          "name": "stdout",
          "text": [
            "Model: \"model_6\"\n",
            "_________________________________________________________________\n",
            " Layer (type)                Output Shape              Param #   \n",
            "=================================================================\n",
            " input_7 (InputLayer)        [(None, 51)]              0         \n",
            "                                                                 \n",
            " dense_20 (Dense)            (None, 32)                1664      \n",
            "                                                                 \n",
            " batch_normalization_4 (Bat  (None, 32)                128       \n",
            " chNormalization)                                                \n",
            "                                                                 \n",
            " dropout_4 (Dropout)         (None, 32)                0         \n",
            "                                                                 \n",
            " dense_21 (Dense)            (None, 51)                1683      \n",
            "                                                                 \n",
            "=================================================================\n",
            "Total params: 3475 (13.57 KB)\n",
            "Trainable params: 3411 (13.32 KB)\n",
            "Non-trainable params: 64 (256.00 Byte)\n",
            "_________________________________________________________________\n"
          ]
        }
      ]
    },
    {
      "cell_type": "code",
      "source": [
        "early_stopping = EarlyStopping(monitor='val_loss',patience=5,restore_best_weights=True)"
      ],
      "metadata": {
        "id": "8J455cYRUCre"
      },
      "execution_count": null,
      "outputs": []
    },
    {
      "cell_type": "code",
      "source": [
        "autoencoder_train=autoencoder.fit(df_train, df_train,\n",
        "                epochs=100,\n",
        "                batch_size=256,\n",
        "                shuffle=True,\n",
        "                validation_data=(df_test, df_test),callbacks=[early_stopping],verbose=1)"
      ],
      "metadata": {
        "colab": {
          "base_uri": "https://localhost:8080/"
        },
        "id": "QNPfJkTcUG6y",
        "outputId": "8d40cf1c-6d3e-44c2-98bc-60a89bf6f797"
      },
      "execution_count": null,
      "outputs": [
        {
          "output_type": "stream",
          "name": "stdout",
          "text": [
            "Epoch 1/100\n",
            "2735/2735 [==============================] - 11s 4ms/step - loss: 0.0199 - val_loss: 0.0519\n",
            "Epoch 2/100\n",
            "2735/2735 [==============================] - 9s 3ms/step - loss: 0.0071 - val_loss: 0.0379\n",
            "Epoch 3/100\n",
            "2735/2735 [==============================] - 12s 4ms/step - loss: 0.0063 - val_loss: 0.0265\n",
            "Epoch 4/100\n",
            "2735/2735 [==============================] - 10s 4ms/step - loss: 0.0059 - val_loss: 0.0207\n",
            "Epoch 5/100\n",
            "2735/2735 [==============================] - 10s 4ms/step - loss: 0.0056 - val_loss: 0.0190\n",
            "Epoch 6/100\n",
            "2735/2735 [==============================] - 11s 4ms/step - loss: 0.0054 - val_loss: 0.0211\n",
            "Epoch 7/100\n",
            "2735/2735 [==============================] - 8s 3ms/step - loss: 0.0053 - val_loss: 0.0214\n",
            "Epoch 8/100\n",
            "2735/2735 [==============================] - 11s 4ms/step - loss: 0.0052 - val_loss: 0.0197\n",
            "Epoch 9/100\n",
            "2735/2735 [==============================] - 10s 4ms/step - loss: 0.0052 - val_loss: 0.0195\n",
            "Epoch 10/100\n",
            "2735/2735 [==============================] - 10s 4ms/step - loss: 0.0051 - val_loss: 0.0203\n"
          ]
        }
      ]
    },
    {
      "cell_type": "code",
      "source": [
        "loss = autoencoder_train.history['loss']\n",
        "val_loss = autoencoder_train.history['val_loss']\n",
        "epochs = range(10)\n",
        "plt.figure()\n",
        "plt.plot(epochs, loss, 'bo', label='Training loss')\n",
        "plt.plot(epochs, val_loss, 'b', label='Validation loss')\n",
        "plt.title('Training and validation loss')\n",
        "plt.legend()\n",
        "plt.show()\n"
      ],
      "metadata": {
        "colab": {
          "base_uri": "https://localhost:8080/",
          "height": 452
        },
        "id": "ptXcSAuf8Jtu",
        "outputId": "23b448a1-7b22-4898-b3bb-4621c870e55b"
      },
      "execution_count": null,
      "outputs": [
        {
          "output_type": "display_data",
          "data": {
            "text/plain": [
              "<Figure size 640x480 with 1 Axes>"
            ],
            "image/png": "[encoded data removed]"
          },
          "metadata": {}
        }
      ]
    },
    {
      "cell_type": "code",
      "source": [
        "y_pred = autoencoder.predict(df_test)\n"
      ],
      "metadata": {
        "colab": {
          "base_uri": "https://localhost:8080/"
        },
        "id": "iYYEUkCDffbQ",
        "outputId": "c0caad26-27d2-4fcd-8a71-9db23ef51c31"
      },
      "execution_count": null,
      "outputs": [
        {
          "output_type": "stream",
          "name": "stdout",
          "text": [
            "7154/7154 [==============================] - 15s 2ms/step\n"
          ]
        }
      ]
    },
    {
      "cell_type": "code",
      "source": [
        "mse = np.mean(np.power(df_test - y_pred, 2), axis=1)"
      ],
      "metadata": {
        "id": "J-8ijg0OJqaa"
      },
      "execution_count": null,
      "outputs": []
    },
    {
      "cell_type": "code",
      "source": [
        "plt.plot(mse, marker='o', linestyle='')\n",
        "plt.xlabel('Sample Index')\n",
        "plt.ylabel('Mean Squared Error (MSE)')\n",
        "plt.title('MSE Values for Reconstructed Samples')\n",
        "plt.grid(True)\n",
        "plt.show()"
      ],
      "metadata": {
        "colab": {
          "base_uri": "https://localhost:8080/",
          "height": 472
        },
        "id": "dqyda6MvL_Ff",
        "outputId": "be7ec9ed-271f-4529-e187-e0e30311e150"
      },
      "execution_count": null,
      "outputs": [
        {
          "output_type": "display_data",
          "data": {
            "text/plain": [
              "<Figure size 640x480 with 1 Axes>"
            ],
            "image/png": "[encoded data removed]"
          },
          "metadata": {}
        }
      ]
    },
    {
      "cell_type": "code",
      "source": [
        "y_predictions = y_pred[:, 0]"
      ],
      "metadata": {
        "id": "eCtK0lld25hU"
      },
      "execution_count": null,
      "outputs": []
    },
    {
      "cell_type": "code",
      "source": [
        "threshold = np.percentile(mse, 85)\n",
        "\n",
        "y_pred = (mse > threshold).astype(int)\n",
        "\n",
        "accuracy = accuracy_score(target_test, y_pred)\n",
        "conf_matrix = confusion_matrix(target_test, y_pred)\n",
        "\n",
        "print(f\"Accuracy: {accuracy}\")\n",
        "print(\"Confusion Matrix:\")\n",
        "print(conf_matrix)"
      ],
      "metadata": {
        "colab": {
          "base_uri": "https://localhost:8080/"
        },
        "id": "Cthx5BQMf9s4",
        "outputId": "f018d07e-be0f-45d5-d878-a71caf15eb87"
      },
      "execution_count": null,
      "outputs": [
        {
          "output_type": "stream",
          "name": "stdout",
          "text": [
            "Accuracy: 0.951423778276787\n",
            "Confusion Matrix:\n",
            "[[185120   1676]\n",
            " [  9443  32659]]\n"
          ]
        }
      ]
    },
    {
      "cell_type": "code",
      "source": [
        "threshold"
      ],
      "metadata": {
        "colab": {
          "base_uri": "https://localhost:8080/"
        },
        "id": "eI41mMOGhHR-",
        "outputId": "e65a603d-8bca-449b-9abb-c83ea788f1d5"
      },
      "execution_count": null,
      "outputs": [
        {
          "output_type": "execute_result",
          "data": {
            "text/plain": [
              "0.03126554320373542"
            ]
          },
          "metadata": {},
          "execution_count": 176
        }
      ]
    },
    {
      "cell_type": "code",
      "source": [
        "precision = precision_score(target_test, y_pred)\n",
        "recall = recall_score(target_test, y_pred)\n",
        "f1 = f1_score(target_test, y_pred)\n",
        "\n",
        "print(f\"Precision: {precision}\")\n",
        "print(f\"Recall: {recall}\")\n",
        "print(f\"F1-score: {f1}\")\n",
        "print(\"Classification Report:\")\n",
        "print(classification_report(target_test, y_pred))"
      ],
      "metadata": {
        "colab": {
          "base_uri": "https://localhost:8080/"
        },
        "id": "Asvjur7Qf3z9",
        "outputId": "4cf7ab54-58f1-4c76-c96e-a43a8e017135"
      },
      "execution_count": null,
      "outputs": [
        {
          "output_type": "stream",
          "name": "stdout",
          "text": [
            "Precision: 0.9511868355905053\n",
            "Recall: 0.7757113676309914\n",
            "F1-score: 0.8545337990763635\n",
            "Classification Report:\n",
            "              precision    recall  f1-score   support\n",
            "\n",
            "           0       0.95      0.99      0.97    186796\n",
            "           1       0.95      0.78      0.85     42102\n",
            "\n",
            "    accuracy                           0.95    228898\n",
            "   macro avg       0.95      0.88      0.91    228898\n",
            "weighted avg       0.95      0.95      0.95    228898\n",
            "\n"
          ]
        }
      ]
    },
    {
      "cell_type": "code",
      "source": [
        "thresholds = np.linspace(min(mse), max(mse), num=100)\n",
        "precision_list, recall_list, f1_list = [], [], []\n",
        "\n",
        "# Calculate precision, recall, and F1-score for each threshold\n",
        "for threshold in thresholds:\n",
        "    predicted_anomalies = (mse > threshold).astype(int)\n",
        "    precision = precision_score(target_test, predicted_anomalies)\n",
        "    recall = recall_score(target_test, predicted_anomalies)\n",
        "    f1 = f1_score(target_test, predicted_anomalies)\n",
        "\n",
        "    precision_list.append(precision)\n",
        "    recall_list.append(recall)\n",
        "    f1_list.append(f1)"
      ],
      "metadata": {
        "id": "vfX01uj3M9w2"
      },
      "execution_count": null,
      "outputs": []
    },
    {
      "cell_type": "code",
      "source": [
        "plt.figure(figsize=(8, 6))\n",
        "plt.plot(thresholds, precision_list, label='Precision')\n",
        "plt.plot(thresholds, recall_list, label='Recall')\n",
        "plt.plot(thresholds, f1_list, label='F1-score')\n",
        "plt.xlabel('Threshold')\n",
        "plt.ylabel('Score')\n",
        "plt.legend()\n",
        "plt.title('Precision, Recall, and F1-score for different Thresholds')\n",
        "plt.grid(True)\n",
        "plt.show()"
      ],
      "metadata": {
        "colab": {
          "base_uri": "https://localhost:8080/",
          "height": 564
        },
        "id": "fAfUlHqNNPIz",
        "outputId": "9504e8f2-811a-4feb-f1a0-e092e2014904"
      },
      "execution_count": null,
      "outputs": [
        {
          "output_type": "display_data",
          "data": {
            "text/plain": [
              "<Figure size 800x600 with 1 Axes>"
            ],
            "image/png": "[encoded data removed]"
          },
          "metadata": {}
        }
      ]
    },
    {
      "cell_type": "code",
      "source": [
        "max(f1_list)"
      ],
      "metadata": {
        "colab": {
          "base_uri": "https://localhost:8080/"
        },
        "id": "WzRVfdsCcvvB",
        "outputId": "9da4cdb1-3226-4e6c-9d33-35355bb6857f"
      },
      "execution_count": null,
      "outputs": [
        {
          "output_type": "execute_result",
          "data": {
            "text/plain": [
              "0.8558930166570332"
            ]
          },
          "metadata": {},
          "execution_count": 173
        }
      ]
    },
    {
      "cell_type": "markdown",
      "metadata": {
        "id": "MD_BvVZ0mrXq"
      },
      "source": [
        "## **Baseline 2 : Isolation Forest**\n"
      ]
    },
    {
      "cell_type": "code",
      "execution_count": null,
      "metadata": {
        "id": "p_Qk7L5AAB7I"
      },
      "outputs": [],
      "source": [
        "model = IsolationForest(n_estimators=100, max_samples='auto', contamination=float(.01),\n",
        "                             max_features=1.0, bootstrap=False, n_jobs=-1, random_state=42, verbose=0)"
      ]
    },
    {
      "cell_type": "code",
      "source": [
        "model.fit(df_train)"
      ],
      "metadata": {
        "id": "iDVHN0_oAuPw",
        "colab": {
          "base_uri": "https://localhost:8080/",
          "height": 74
        },
        "outputId": "66c11888-a5c7-4674-fac7-b953344ac3c2"
      },
      "execution_count": null,
      "outputs": [
        {
          "output_type": "execute_result",
          "data": {
            "text/plain": [
              "IsolationForest(contamination=0.01, n_jobs=-1, random_state=42)"
            ],
            "text/html": [
              "<style>#sk-container-id-5 {color: black;background-color: white;}#sk-container-id-5 pre{padding: 0;}#sk-container-id-5 div.sk-toggleable {background-color: white;}#sk-container-id-5 label.sk-toggleable__label {cursor: pointer;display: block;width: 100%;margin-bottom: 0;padding: 0.3em;box-sizing: border-box;text-align: center;}#sk-container-id-5 label.sk-toggleable__label-arrow:before {content: \"▸\";float: left;margin-right: 0.25em;color: #696969;}#sk-container-id-5 label.sk-toggleable__label-arrow:hover:before {color: black;}#sk-container-id-5 div.sk-estimator:hover label.sk-toggleable__label-arrow:before {color: black;}#sk-container-id-5 div.sk-toggleable__content {max-height: 0;max-width: 0;overflow: hidden;text-align: left;background-color: #f0f8ff;}#sk-container-id-5 div.sk-toggleable__content pre {margin: 0.2em;color: black;border-radius: 0.25em;background-color: #f0f8ff;}#sk-container-id-5 input.sk-toggleable__control:checked~div.sk-toggleable__content {max-height: 200px;max-width: 100%;overflow: auto;}#sk-container-id-5 input.sk-toggleable__control:checked~label.sk-toggleable__label-arrow:before {content: \"▾\";}#sk-container-id-5 div.sk-estimator input.sk-toggleable__control:checked~label.sk-toggleable__label {background-color: #d4ebff;}#sk-container-id-5 div.sk-label input.sk-toggleable__control:checked~label.sk-toggleable__label {background-color: #d4ebff;}#sk-container-id-5 input.sk-hidden--visually {border: 0;clip: rect(1px 1px 1px 1px);clip: rect(1px, 1px, 1px, 1px);height: 1px;margin: -1px;overflow: hidden;padding: 0;position: absolute;width: 1px;}#sk-container-id-5 div.sk-estimator {font-family: monospace;background-color: #f0f8ff;border: 1px dotted black;border-radius: 0.25em;box-sizing: border-box;margin-bottom: 0.5em;}#sk-container-id-5 div.sk-estimator:hover {background-color: #d4ebff;}#sk-container-id-5 div.sk-parallel-item::after {content: \"\";width: 100%;border-bottom: 1px solid gray;flex-grow: 1;}#sk-container-id-5 div.sk-label:hover label.sk-toggleable__label {background-color: #d4ebff;}#sk-container-id-5 div.sk-serial::before {content: \"\";position: absolute;border-left: 1px solid gray;box-sizing: border-box;top: 0;bottom: 0;left: 50%;z-index: 0;}#sk-container-id-5 div.sk-serial {display: flex;flex-direction: column;align-items: center;background-color: white;padding-right: 0.2em;padding-left: 0.2em;position: relative;}#sk-container-id-5 div.sk-item {position: relative;z-index: 1;}#sk-container-id-5 div.sk-parallel {display: flex;align-items: stretch;justify-content: center;background-color: white;position: relative;}#sk-container-id-5 div.sk-item::before, #sk-container-id-5 div.sk-parallel-item::before {content: \"\";position: absolute;border-left: 1px solid gray;box-sizing: border-box;top: 0;bottom: 0;left: 50%;z-index: -1;}#sk-container-id-5 div.sk-parallel-item {display: flex;flex-direction: column;z-index: 1;position: relative;background-color: white;}#sk-container-id-5 div.sk-parallel-item:first-child::after {align-self: flex-end;width: 50%;}#sk-container-id-5 div.sk-parallel-item:last-child::after {align-self: flex-start;width: 50%;}#sk-container-id-5 div.sk-parallel-item:only-child::after {width: 0;}#sk-container-id-5 div.sk-dashed-wrapped {border: 1px dashed gray;margin: 0 0.4em 0.5em 0.4em;box-sizing: border-box;padding-bottom: 0.4em;background-color: white;}#sk-container-id-5 div.sk-label label {font-family: monospace;font-weight: bold;display: inline-block;line-height: 1.2em;}#sk-container-id-5 div.sk-label-container {text-align: center;}#sk-container-id-5 div.sk-container {/* jupyter's `normalize.less` sets `[hidden] { display: none; }` but bootstrap.min.css set `[hidden] { display: none !important; }` so we also need the `!important` here to be able to override the default hidden behavior on the sphinx rendered scikit-learn.org. See: https://github.com/scikit-learn/scikit-learn/issues/21755 */display: inline-block !important;position: relative;}#sk-container-id-5 div.sk-text-repr-fallback {display: none;}</style><div id=\"sk-container-id-5\" class=\"sk-top-container\"><div class=\"sk-text-repr-fallback\"><pre>IsolationForest(contamination=0.01, n_jobs=-1, random_state=42)</pre><b>In a Jupyter environment, please rerun this cell to show the HTML representation or trust the notebook. <br />On GitHub, the HTML representation is unable to render, please try loading this page with nbviewer.org.</b></div><div class=\"sk-container\" hidden><div class=\"sk-item\"><div class=\"sk-estimator sk-toggleable\"><input class=\"sk-toggleable__control sk-hidden--visually\" id=\"sk-estimator-id-5\" type=\"checkbox\" checked><label for=\"sk-estimator-id-5\" class=\"sk-toggleable__label sk-toggleable__label-arrow\">IsolationForest</label><div class=\"sk-toggleable__content\"><pre>IsolationForest(contamination=0.01, n_jobs=-1, random_state=42)</pre></div></div></div></div></div>"
            ]
          },
          "metadata": {},
          "execution_count": 37
        }
      ]
    },
    {
      "cell_type": "code",
      "execution_count": null,
      "metadata": {
        "id": "4GZqdbuUEBDT"
      },
      "outputs": [],
      "source": [
        "predictions = model.predict(df_test)\n",
        "\n",
        "binary_predictions = [1 if pred == -1 else 0 for pred in predictions]\n",
        "\n",
        "true_labels = target_test\n",
        "predicted_labels = binary_predictions"
      ]
    },
    {
      "cell_type": "code",
      "source": [
        "accuracy = accuracy_score(true_labels, predicted_labels)\n",
        "confusion = confusion_matrix(true_labels, predicted_labels)\n",
        "precision = precision_score(true_labels, predicted_labels)\n",
        "recall = recall_score(true_labels, predicted_labels)\n",
        "f1 = f1_score(true_labels, predicted_labels)\n",
        "\n",
        "print(\"Accuracy:\", accuracy)\n",
        "print(\"Confusion Matrix:\")\n",
        "print(confusion)\n",
        "print(\"Precision:\", precision)\n",
        "print(\"Recall:\", recall)\n",
        "print(\"F1 Score:\", f1)\n",
        "print(\"Classification Report:\")\n",
        "print(classification_report(true_labels, predicted_labels))"
      ],
      "metadata": {
        "colab": {
          "base_uri": "https://localhost:8080/"
        },
        "id": "EoxiH_PvIkDg",
        "outputId": "1a6ac079-ce82-4088-ec46-f00d0b735bad"
      },
      "execution_count": null,
      "outputs": [
        {
          "output_type": "stream",
          "name": "stdout",
          "text": [
            "Accuracy: 0.9459453555732248\n",
            "Confusion Matrix:\n",
            "[[184552   2244]\n",
            " [ 10129  31973]]\n",
            "Precision: 0.9344185638717597\n",
            "Recall: 0.759417604864377\n",
            "F1 Score: 0.8378778547936949\n",
            "Classification Report:\n",
            "              precision    recall  f1-score   support\n",
            "\n",
            "           0       0.95      0.99      0.97    186796\n",
            "           1       0.93      0.76      0.84     42102\n",
            "\n",
            "    accuracy                           0.95    228898\n",
            "   macro avg       0.94      0.87      0.90    228898\n",
            "weighted avg       0.95      0.95      0.94    228898\n",
            "\n"
          ]
        }
      ]
    }
  ],
  "metadata": {
    "colab": {
      "provenance": []
    },
    "kernelspec": {
      "display_name": "Python 3",
      "name": "python3"
    },
    "language_info": {
      "name": "python"
    }
  },
  "nbformat": 4,
  "nbformat_minor": 0
}